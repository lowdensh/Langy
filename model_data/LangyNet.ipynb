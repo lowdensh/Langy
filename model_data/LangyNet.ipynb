{
  "nbformat": 4,
  "nbformat_minor": 0,
  "metadata": {
    "colab": {
      "name": "LangyNet",
      "provenance": [],
      "collapsed_sections": [],
      "toc_visible": true
    },
    "kernelspec": {
      "display_name": "Python 3",
      "name": "python3"
    },
    "language_info": {
      "name": "python"
    },
    "accelerator": "GPU"
  },
  "cells": [
    {
      "cell_type": "markdown",
      "metadata": {
        "id": "VG4HYEJUoa7k"
      },
      "source": [
        "# Preliminary"
      ]
    },
    {
      "cell_type": "code",
      "metadata": {
        "id": "5Q-rq4w_1-n_"
      },
      "source": [
        "# Check gpu runtime\n",
        "from psutil import virtual_memory\n",
        "gpu_info = !nvidia-smi\n",
        "gpu_info = '\\n'.join(gpu_info)\n",
        "\n",
        "if gpu_info.find('failed') >= 0:\n",
        "    print('Select the Runtime > \"Change runtime type\" menu to enable a GPU accelerator, ')\n",
        "    print('and then re-execute this cell.')\n",
        "else:\n",
        "    print(gpu_info)\n",
        "    ram_gb = virtual_memory().total / 1e9\n",
        "    print('\\n')\n",
        "    print('Your runtime has {:.1f} gigabytes of available RAM\\n'.format(ram_gb))"
      ],
      "execution_count": null,
      "outputs": []
    },
    {
      "cell_type": "code",
      "metadata": {
        "id": "DcewF5blUOZx"
      },
      "source": [
        "# Time code cell execution\n",
        "!pip install ipython-autotime\n",
        "%load_ext autotime"
      ],
      "execution_count": null,
      "outputs": []
    },
    {
      "cell_type": "code",
      "metadata": {
        "id": "45zmMDLsJ7Q7"
      },
      "source": [
        "# Parameter tuning\n",
        "!pip install ray[default]"
      ],
      "execution_count": null,
      "outputs": []
    },
    {
      "cell_type": "code",
      "metadata": {
        "id": "NjGx2uGYbrr9"
      },
      "source": [
        "# Parameter tuning\n",
        "!pip install tensorboardX"
      ],
      "execution_count": null,
      "outputs": []
    },
    {
      "cell_type": "code",
      "metadata": {
        "id": "E9jk3wisUCvH"
      },
      "source": [
        "# Imports\n",
        "from   functools import partial\n",
        "from   google.colab import drive\n",
        "import matplotlib.pyplot as plt\n",
        "import numpy as np\n",
        "import os\n",
        "import pandas as pd\n",
        "from   ray import tune\n",
        "from   ray.tune import CLIReporter\n",
        "from   ray.tune.schedulers import ASHAScheduler\n",
        "from   sklearn.model_selection import train_test_split\n",
        "import sys\n",
        "import torch\n",
        "import torch.nn as nn\n",
        "from   torch.utils import data"
      ],
      "execution_count": 2,
      "outputs": []
    },
    {
      "cell_type": "code",
      "metadata": {
        "id": "-MASdYMRWMn0"
      },
      "source": [
        "# Plots\n",
        "# https://matplotlib.org/stable/gallery/style_sheets/style_sheets_reference.html\n",
        "%matplotlib inline\n",
        "plt.style.use('seaborn-darkgrid')"
      ],
      "execution_count": 3,
      "outputs": []
    },
    {
      "cell_type": "code",
      "metadata": {
        "id": "q15T44OD8l9l"
      },
      "source": [
        "# Google Drive\n",
        "drive.mount('/content/gdrive', force_remount=True)\n",
        "sys.path.append('/content/gdrive/MyDrive/Uni/Year 3/ECS635U Project/')"
      ],
      "execution_count": null,
      "outputs": []
    },
    {
      "cell_type": "markdown",
      "metadata": {
        "id": "V3gP0o0dq7fJ"
      },
      "source": [
        "# Data"
      ]
    },
    {
      "cell_type": "code",
      "metadata": {
        "id": "Yct9fNR1KpPs"
      },
      "source": [
        "def load_data(datapoints='max', random_state=None):\n",
        "    \"\"\"\n",
        "    Load examples from a csv file and create a training and testing dataset using\n",
        "    a standard 80/20 split.\n",
        "\n",
        "    Parameters\n",
        "    ----------\n",
        "    datapoints : int or str, default='max'\n",
        "        Number of examples to load from the csv.\n",
        "    random_state : int or None, default=None\n",
        "        Controls the shuffling of data before being split. Pass a specific int\n",
        "        for a reproducible split.\n",
        "\n",
        "    Returns\n",
        "    -------\n",
        "    train_dataset : TensorDataset\n",
        "        Dataset containing 80% of randomly selected examples from the csv.\n",
        "    test_dataset : TensorDataset\n",
        "        Dataset containing the remaining 20% of examples.\n",
        "    \"\"\"\n",
        "\n",
        "    # Get data as dataframe\n",
        "    df = pd.read_csv('/content/gdrive/MyDrive/Uni/Year 3/ECS635U Project/model_input_duolingo_subset.csv')\n",
        "    max_datapoints = len(df)\n",
        "\n",
        "    # Optionally use a subset of data\n",
        "    if datapoints != 'max':\n",
        "        assert datapoints <= max_datapoints, f'max datapoints is {max_datapoints}'\n",
        "        df = df[:datapoints]\n",
        "    \n",
        "    # Separate features and labels\n",
        "    df_x = df.drop('p_trans', axis=1)\n",
        "    df_y = df['p_trans'].to_frame()\n",
        "\n",
        "    # Create feature and label tensors\n",
        "    x = torch.tensor(df_x.values, dtype=torch.float32)\n",
        "    y = torch.tensor(df_y.values, dtype=torch.float32)\n",
        "\n",
        "    # Split data into testing and training sets\n",
        "    X_train, X_test, y_train, y_test = train_test_split(\n",
        "        x, y,\n",
        "        test_size=0.2,\n",
        "        random_state=random_state)\n",
        "\n",
        "    # Create datasets\n",
        "    train_dataset = data.TensorDataset(X_train, y_train)\n",
        "    test_dataset = data.TensorDataset(X_test, y_test)\n",
        "\n",
        "    return train_dataset, test_dataset"
      ],
      "execution_count": 5,
      "outputs": []
    },
    {
      "cell_type": "code",
      "metadata": {
        "colab": {
          "base_uri": "https://localhost:8080/"
        },
        "id": "sU06viIKsdYv",
        "outputId": "f20f8b3e-db58-4472-e13e-383aa88fc5ac"
      },
      "source": [
        "train_dataset, test_dataset = load_data()\n",
        "len(train_dataset)"
      ],
      "execution_count": 6,
      "outputs": [
        {
          "output_type": "execute_result",
          "data": {
            "text/plain": [
              "587051"
            ]
          },
          "metadata": {
            "tags": []
          },
          "execution_count": 6
        }
      ]
    },
    {
      "cell_type": "code",
      "metadata": {
        "colab": {
          "base_uri": "https://localhost:8080/"
        },
        "id": "3ZptM9YKyFdo",
        "outputId": "6f82dde7-e583-47e2-ede3-d0323f5bb629"
      },
      "source": [
        "# First learning trace\n",
        "next(iter(train_dataset))"
      ],
      "execution_count": 7,
      "outputs": [
        {
          "output_type": "execute_result",
          "data": {
            "text/plain": [
              "(tensor([ 1.9851, -0.3607, -0.3607, -0.3607, -0.4276,  0.3376, -1.3243,  1.4815,\n",
              "          0.7002,  0.8726]), tensor([0.8333]))"
            ]
          },
          "metadata": {
            "tags": []
          },
          "execution_count": 7
        }
      ]
    },
    {
      "cell_type": "markdown",
      "metadata": {
        "id": "LDU2Rg7k1Vas"
      },
      "source": [
        "# Model"
      ]
    },
    {
      "cell_type": "code",
      "metadata": {
        "id": "oyfUmFnL7O_j"
      },
      "source": [
        "def init_weights(m):\n",
        "    \"\"\"Apply to a created model to initialise the weights and bias.\"\"\"\n",
        "    if type(m) == nn.Linear:\n",
        "        torch.nn.init.kaiming_normal_(m.weight, nonlinearity='relu')\n",
        "        torch.nn.init.zeros_(m.bias)"
      ],
      "execution_count": 8,
      "outputs": []
    },
    {
      "cell_type": "code",
      "metadata": {
        "id": "3r2o_qowPjqb"
      },
      "source": [
        "class LangyBlock(nn.Module):\n",
        "    \"\"\"\n",
        "    A block for a LangyNet model consisting of:\n",
        "    - linear hidden layer\n",
        "    - rectified linear activation function\n",
        "    - dropout layer.\n",
        "\n",
        "    Initialisation Parameters\n",
        "    -------------------------\n",
        "    id : int\n",
        "        Block identification number.\n",
        "    input_nodes : int\n",
        "        Input size for the hidden layer.\n",
        "    output_nodes : int\n",
        "        Output size for the hidden layer i.e. number of hidden nodes.\n",
        "    p_dropout : float, default=0\n",
        "        Probability of a hidden layer node to be zeroed.\n",
        "\n",
        "    Forward Parameters\n",
        "    ------------------\n",
        "    x : Tensor\n",
        "        Size([batch_size, input_nodes])\n",
        "\n",
        "    Returns\n",
        "    -------\n",
        "    x : Tensor\n",
        "        Size([batch_size, output_nodes])\n",
        "\n",
        "    \"\"\"\n",
        "\n",
        "    def __init__(self, id, input_nodes, output_nodes, p_dropout=0):\n",
        "        super(LangyBlock, self).__init__()\n",
        "        self.id = id\n",
        "        self.input_nodes = input_nodes\n",
        "        self.output_nodes = output_nodes\n",
        "        self.p_dropout = p_dropout\n",
        "\n",
        "        self.add_module(\n",
        "            f'hid{self.id}',\n",
        "            nn.Linear(self.input_nodes, self.output_nodes))\n",
        "        self.add_module(\n",
        "            f'act{self.id}',\n",
        "            nn.ReLU())\n",
        "        self.add_module(\n",
        "            f'drop{self.id}',\n",
        "            nn.Dropout(self.p_dropout))\n",
        "\n",
        "    def forward(self, x):\n",
        "        x = self._modules[f'hid{self.id}'](x)\n",
        "        x = self._modules[f'act{self.id}'](x)\n",
        "        x = self._modules[f'drop{self.id}'](x)\n",
        "        return x"
      ],
      "execution_count": 9,
      "outputs": []
    },
    {
      "cell_type": "code",
      "metadata": {
        "id": "oVK0ilDA1XLI"
      },
      "source": [
        "class LangyNet(nn.Module):\n",
        "    \"\"\"\n",
        "    A neural network with a configurable number of hidden layers.\n",
        "\n",
        "    Takes a Tensor of learning traces and produces a prediction for the\n",
        "    probability that the represented foreign word can be correctly translated.\n",
        "\n",
        "    Initialisation Parameters\n",
        "    -------------------------\n",
        "    hidden_layers : int\n",
        "        Number of hidden layers i.e. LangyBlocks to use.\n",
        "    hidden_nodes : int\n",
        "        Number of nodes to use in hidden layers.\n",
        "    p_dropout : float, default=0\n",
        "        Probability of a hidden layer node to be zeroed.\n",
        "\n",
        "    Forward Parameters\n",
        "    ------------------\n",
        "    x : Tensor\n",
        "        Tensor of learning traces, Size([batch_size, 10])\n",
        "\n",
        "    Returns\n",
        "    -------\n",
        "    p_trans : Tensor\n",
        "        Probability of correct translation, Size([batch_size, 1])\n",
        "    \"\"\"\n",
        "\n",
        "    def __init__(self, hidden_layers, hidden_nodes, p_dropout=0):\n",
        "        super(LangyNet, self).__init__()\n",
        "        self.input_features = 10  # delta, seen, ..., frn_4\n",
        "        self.output_features = 1  # p_trans\n",
        "        self.hidden_layers = hidden_layers\n",
        "        self.hidden_nodes = hidden_nodes\n",
        "        self.p_dropout = p_dropout\n",
        "\n",
        "        # Add hidden layers\n",
        "        for i in range(hidden_layers):\n",
        "            if i == 0:\n",
        "                # First hidden layer\n",
        "                self.add_module(\n",
        "                    f'langy_block_{i+1}',\n",
        "                    LangyBlock(i+1, self.input_features, self.hidden_nodes, self.p_dropout))\n",
        "            else:\n",
        "                # Additional hidden layers\n",
        "                self.add_module(\n",
        "                    f'langy_block_{i+1}',\n",
        "                    LangyBlock(i+1, self.hidden_nodes, self.hidden_nodes, self.p_dropout))\n",
        "            \n",
        "        # Output layer\n",
        "        self.output = nn.Linear(self.hidden_nodes, self.output_features)\n",
        "        \n",
        "\n",
        "    def forward(self, x):\n",
        "        for i in range(self.hidden_layers):\n",
        "            x = self._modules[f'langy_block_{i+1}'](x)\n",
        "        x = self.output(x)\n",
        "        return x"
      ],
      "execution_count": 10,
      "outputs": []
    },
    {
      "cell_type": "code",
      "metadata": {
        "colab": {
          "base_uri": "https://localhost:8080/"
        },
        "id": "7nNgFaClHc1E",
        "outputId": "ce03b5fd-7690-4b70-8e99-e215f73270cf"
      },
      "source": [
        "# Example model initialisation\n",
        "LangyNet(3, 16)"
      ],
      "execution_count": 13,
      "outputs": [
        {
          "output_type": "execute_result",
          "data": {
            "text/plain": [
              "LangyNet(\n",
              "  (langy_block_1): LangyBlock(\n",
              "    (hid1): Linear(in_features=10, out_features=16, bias=True)\n",
              "    (act1): ReLU()\n",
              "    (drop1): Dropout(p=0, inplace=False)\n",
              "  )\n",
              "  (langy_block_2): LangyBlock(\n",
              "    (hid2): Linear(in_features=16, out_features=16, bias=True)\n",
              "    (act2): ReLU()\n",
              "    (drop2): Dropout(p=0, inplace=False)\n",
              "  )\n",
              "  (langy_block_3): LangyBlock(\n",
              "    (hid3): Linear(in_features=16, out_features=16, bias=True)\n",
              "    (act3): ReLU()\n",
              "    (drop3): Dropout(p=0, inplace=False)\n",
              "  )\n",
              "  (output): Linear(in_features=16, out_features=1, bias=True)\n",
              ")"
            ]
          },
          "metadata": {
            "tags": []
          },
          "execution_count": 13
        }
      ]
    },
    {
      "cell_type": "markdown",
      "metadata": {
        "id": "O6nyaTcJZ0Mm"
      },
      "source": [
        "# Training Functions"
      ]
    },
    {
      "cell_type": "markdown",
      "metadata": {
        "id": "EE3bkWOebRen"
      },
      "source": [
        "The functions `train` and `tuning` use a dictionary of parameters, `config`, which must include the following:\n",
        "\n",
        "1. `hidden_layers`: number of hidden layers to use\n",
        "1. `hidden_nodes`: number of nodes to use in hidden layers\n",
        "1. `p_dropout`: probability of a hidden layer node to be zeroed\n",
        "1. `weight_decay`: penalty to apply to model weights\n",
        "1. `learning_rate`: rate at which model weights are adjusted\n",
        "1. `batch_size`: number of examples per batch\n",
        "1. `epochs`: number of cycles through the full dataset\n",
        "\n",
        "Below is an example of what a configuration may look like:\n",
        "\n",
        "```\n",
        "config = {\n",
        "    'hidden_layers': 1,\n",
        "    'hidden_nodes': 16,\n",
        "    'p_dropout': 0,\n",
        "    'weight_decay': 0,\n",
        "    'learning_rate': 0.01,\n",
        "    'batch_size': 64,\n",
        "    'epochs': 200,\n",
        "}\n",
        "```\n",
        "\n",
        "`train` uses `config` to train a single model with specific values for each parameter.\n",
        "\n",
        "`tuning` uses `config` to perform distributed model training with a range of values for each parameter to find an optimal combination."
      ]
    },
    {
      "cell_type": "code",
      "metadata": {
        "id": "NRGTjWMiVorq"
      },
      "source": [
        "# https://d2l.ai/chapter_linear-networks/softmax-regression-scratch.html#classification-accuracy\n",
        "\n",
        "class Accumulator:\n",
        "    \"\"\"For accumulating sums over `n` variables.\"\"\"\n",
        "    \n",
        "    def __init__(self, n):\n",
        "        self.data = [0.0] * n\n",
        "\n",
        "    def add(self, *args):\n",
        "        self.data = [a + float(b) for a, b in zip(self.data, args)]\n",
        "\n",
        "    def reset(self):\n",
        "        self.data = [0.0] * len(self.data)\n",
        "\n",
        "    def __getitem__(self, idx):\n",
        "        return self.data[idx]"
      ],
      "execution_count": 14,
      "outputs": []
    },
    {
      "cell_type": "code",
      "metadata": {
        "id": "Cusr8eNIHYaC"
      },
      "source": [
        "def train_epoch(model, device, train_loader, loss_fn, optimiser):\n",
        "    \"\"\"\n",
        "    Trains a model for a single epoch.\n",
        "\n",
        "    Parameters\n",
        "    ----------\n",
        "    model : LangyNet\n",
        "        The model to train.\n",
        "    device : str\n",
        "        For CPU/GPU processing, either 'cpu' or 'cuda:0'\n",
        "    train_loader : DataLoader\n",
        "        DataLoader which supplies examples from the training subset.\n",
        "    loss_fn : torch.nn Loss Function\n",
        "        Loss function to measure error between predictions and ground truth.\n",
        "    optimiser : torch.optim.Optimizer\n",
        "        Optimiser to update model parameters.\n",
        "    \n",
        "    Returns\n",
        "    -------\n",
        "    epoch_loss : float\n",
        "        Loss of the model on training data after a single epoch.\n",
        "    \"\"\"\n",
        "\n",
        "    if isinstance(model, torch.nn.Module):\n",
        "        model.train()  # training mode\n",
        "\n",
        "    metric = Accumulator(2)  # accumulate statistics over batches\n",
        "\n",
        "    for X, y in train_loader:\n",
        "        # CPU/GPU processing\n",
        "        X, y = X.to(device), y.to(device)\n",
        "\n",
        "        # Forward and backward pass\n",
        "        optimiser.zero_grad()     # reset old gradients\n",
        "        y_hat = model(X)          # compute prediction\n",
        "        loss = loss_fn(y_hat, y)  # calculate loss\n",
        "        loss.backward()           # calculate new gradients\n",
        "        optimiser.step()          # update parameters\n",
        "\n",
        "        # Statistics\n",
        "        metric.add(\n",
        "            float(loss.sum()),    # sum of training loss\n",
        "            y.numel())            # number of examples\n",
        "\n",
        "    return metric[0] / metric[1]  # training loss for epoch"
      ],
      "execution_count": 15,
      "outputs": []
    },
    {
      "cell_type": "code",
      "metadata": {
        "id": "vRxPnYfJBzB0"
      },
      "source": [
        "def val_epoch(model, device, val_loader, loss_fn):\n",
        "    \"\"\"\n",
        "    Performs model validation for a single epoch.\n",
        "\n",
        "    Parameters\n",
        "    ----------\n",
        "    model : LangyNet\n",
        "        The model to train.\n",
        "    device : str\n",
        "        For CPU/GPU processing, either 'cpu' or 'cuda:0'\n",
        "    val_loader : DataLoader\n",
        "        DataLoader which supplies examples from the validation subset.\n",
        "    loss_fn : torch.nn Loss Function\n",
        "        Loss function to measure error between predictions and ground truth.\n",
        "    \n",
        "    Returns\n",
        "    -------\n",
        "    val_loss : float\n",
        "        Loss of the model on validation data after a single epoch.\n",
        "    \"\"\"\n",
        "\n",
        "    if isinstance(model, torch.nn.Module):\n",
        "        model.eval()  # evaluation mode\n",
        "\n",
        "    metric = Accumulator(2)  # accumulate statistics over batches\n",
        "\n",
        "    for X, y in val_loader:\n",
        "        with torch.no_grad():\n",
        "            # CPU/GPU processing\n",
        "            X, y = X.to(device), y.to(device)\n",
        "\n",
        "            # Computations\n",
        "            y_hat = model(X)          # compute prediction\n",
        "            loss = loss_fn(y_hat, y)  # calculate loss\n",
        "\n",
        "            # Statistics\n",
        "            metric.add(\n",
        "                loss.cpu().numpy(),   # validation loss\n",
        "                1)                    # validation steps\n",
        "    \n",
        "    return metric[0] / metric[1]"
      ],
      "execution_count": 16,
      "outputs": []
    },
    {
      "cell_type": "markdown",
      "metadata": {
        "id": "opbHbw19g884"
      },
      "source": [
        "The main training function `train` makes use of both `train_epoch` and `val_epoch`.\n",
        "\n",
        "It involves continually cycling the model between training and evaluation mode to produce a trained model."
      ]
    },
    {
      "cell_type": "code",
      "metadata": {
        "colab": {
          "base_uri": "https://localhost:8080/"
        },
        "id": "liWXiHFxbR9h",
        "outputId": "472da607-59fa-44f7-f19c-d039fbb6a721"
      },
      "source": [
        "def train(config, datapoints='max', random_state=None, verbose=True, tuning=False, checkpoint_dir=None):\n",
        "    \"\"\"\n",
        "    Create, train and validate a model over epochs.\n",
        "\n",
        "    Parameters\n",
        "    ----------\n",
        "    config : dictionary\n",
        "        Parameters each with a single value.\n",
        "    datapoints : int or str, default='max'\n",
        "        Number of examples to train with from the data csv file.\n",
        "    random_state : int or None, default=None\n",
        "        Controls the shuffling of data before being split for training and\n",
        "        testing. Pass a specific int for a reproducible split.\n",
        "    verbose : bool, default=True\n",
        "        Control whether to print config, model and loss while training.\n",
        "    tuning : bool, default=False\n",
        "        Control whether to use Ray for parameter tuning.\n",
        "    checkpoint_dir : str, default=None\n",
        "        Directory path to be used for checkpointing when parameter tuning.\n",
        "    \n",
        "    Returns\n",
        "    -------\n",
        "    model : LangyNet\n",
        "        The trained model.\n",
        "    history : dict of list of float\n",
        "        History of training and validation loss.\n",
        "    \"\"\"\n",
        "\n",
        "    # Initialise model\n",
        "    model = LangyNet(\n",
        "        config['hidden_layers'],\n",
        "        config['hidden_nodes'],\n",
        "        config['p_dropout'])\n",
        "    model.apply(init_weights)\n",
        "    if verbose:\n",
        "        print('config:', config)\n",
        "        print(model)\n",
        "\n",
        "    # CPU/GPU processing\n",
        "    device = 'cpu'\n",
        "    if torch.cuda.is_available():\n",
        "        device = 'cuda:0'\n",
        "        if torch.cuda.device_count() > 1:\n",
        "            model = nn.DataParallel(model)\n",
        "    model.to(device)\n",
        "\n",
        "    # Split dataset for training and validation\n",
        "    train_dataset, test_dataset = load_data(datapoints)\n",
        "    train_size = int(len(train_dataset) * 0.8)  # 80%\n",
        "    val_size = len(train_dataset) - train_size  # 20%\n",
        "    train_subset, val_subset = data.random_split(\n",
        "        train_dataset, [train_size, val_size])\n",
        "    \n",
        "    # Dataloaders\n",
        "    train_loader = data.DataLoader(\n",
        "        train_subset, config['batch_size'], shuffle=True)\n",
        "    val_loader = data.DataLoader(\n",
        "        val_subset, config['batch_size'], shuffle=True)\n",
        "\n",
        "    # Loss and optimisation\n",
        "    loss_fn = nn.MSELoss()\n",
        "    optimiser = torch.optim.Adam(\n",
        "        model.parameters(),\n",
        "        weight_decay=config['weight_decay'],\n",
        "        lr=config['learning_rate'])\n",
        "\n",
        "    # Parameter tuning\n",
        "    if checkpoint_dir:\n",
        "        model_state, optimiser_state = torch.load(\n",
        "            os.path.join(checkpoint_dir, 'checkpoint'))\n",
        "        model.load_state_dict(model_state)\n",
        "        optimiser.load_state_dict(optimiser_state)\n",
        "\n",
        "    # Track loss history for plotting\n",
        "    history = {\n",
        "        'train_loss': [],\n",
        "        'val_loss': []\n",
        "    }\n",
        "\n",
        "    # Loop over dataset\n",
        "    for epoch in range(config['epochs']):\n",
        "        # Train and validate model\n",
        "        train_loss = train_epoch(model, device, train_loader, loss_fn, optimiser)\n",
        "        val_loss = val_epoch(model, device, val_loader, loss_fn)\n",
        "\n",
        "        # Track statistics\n",
        "        history['train_loss'].append(train_loss)\n",
        "        history['val_loss'].append(val_loss)\n",
        "\n",
        "        # Display losses\n",
        "        if verbose and (epoch == 0 or (epoch + 1) % 10 == 0):\n",
        "            print(f'ep {(epoch + 1)  :<3} ',\n",
        "                f'train_loss={train_loss:.8f} ',\n",
        "                f'val_loss={val_loss:.8f}')\n",
        "        \n",
        "        # Hyperparameter tuning\n",
        "        if tuning:\n",
        "            with tune.checkpoint_dir(epoch) as checkpoint_dir:\n",
        "                path = os.path.join(checkpoint_dir, 'checkpoint')\n",
        "                torch.save((model.state_dict(), optimiser.state_dict()), path)\n",
        "            tune.report(loss=val_loss)\n",
        "    \n",
        "    return model, history"
      ],
      "execution_count": 24,
      "outputs": [
        {
          "output_type": "stream",
          "text": [
            "time: 57.6 ms (started: 2021-04-30 21:35:10 +00:00)\n"
          ],
          "name": "stdout"
        }
      ]
    },
    {
      "cell_type": "markdown",
      "metadata": {
        "id": "ezyUDtMyA4YG"
      },
      "source": [
        "# Parameter Exploration\n",
        "\n",
        "Please see the other notebook."
      ]
    },
    {
      "cell_type": "markdown",
      "metadata": {
        "id": "MFbfUW0uujPa"
      },
      "source": [
        "# Optimisation"
      ]
    },
    {
      "cell_type": "markdown",
      "metadata": {
        "id": "CD75M9_LCFpi"
      },
      "source": [
        "Using Ray Tune to perform distributed training to produce the optimal configuration and model.\n",
        "\n",
        "Tuning is performed with `datapoints='max'`, so each trialed model will \"see\" the **entire** training dataset.\n",
        "\n",
        "Data is loaded with `random_state=1` for a reproducible train/test split."
      ]
    },
    {
      "cell_type": "markdown",
      "metadata": {
        "id": "2Mp1SKQsUDps"
      },
      "source": [
        "## Tuning Function"
      ]
    },
    {
      "cell_type": "code",
      "metadata": {
        "colab": {
          "base_uri": "https://localhost:8080/"
        },
        "id": "g02oHpWWXiu3",
        "outputId": "49af46a2-5727-47a1-81d2-170532784a5f"
      },
      "source": [
        "def tuning(config, num_samples=10, max_num_epochs=10, gpus_per_trial=1):\n",
        "    \"\"\"\n",
        "    Perform distributed model training with a configured range of values for \n",
        "    each parameter in order to find an optimal combination for the lowest \n",
        "    validation loss.\n",
        "\n",
        "    Parameters\n",
        "    ----------\n",
        "    config : dictionary\n",
        "        Parameter search space to tune for.\n",
        "    num_samples : int, default=10\n",
        "        Number of times to sample from the search space. For example, for a grid\n",
        "        search, num_samples=10 means every possible parameter combination is\n",
        "        trialed 10 times.\n",
        "    max_num_epochs : int, default=10\n",
        "        Maximum time units per tuning trial.\n",
        "    gpus_per_trial : int, default=1\n",
        "        Number of GPUs to use per tuning trial.\n",
        "    \n",
        "    Returns\n",
        "    -------\n",
        "    best_trained_model : LangyNet\n",
        "        A trained LangyNet model using optimised configuration.\n",
        "\n",
        "    \"\"\"\n",
        "\n",
        "    load_data(random_state=1)\n",
        "\n",
        "    # Tuning details\n",
        "    scheduler = ASHAScheduler(\n",
        "        metric='loss',\n",
        "        mode='min',\n",
        "        max_t=max_num_epochs,\n",
        "        grace_period=1,\n",
        "        reduction_factor=2)\n",
        "    reporter = CLIReporter(\n",
        "        metric_columns=['loss', 'training_iteration'])\n",
        "    \n",
        "    # Perform tuning\n",
        "    result = tune.run(\n",
        "        partial(train, random_state=1, verbose=False, tuning=True),\n",
        "        resources_per_trial={'cpu': 2, 'gpu': gpus_per_trial},\n",
        "        config=config,\n",
        "        num_samples=num_samples,\n",
        "        scheduler=scheduler,\n",
        "        progress_reporter=reporter)\n",
        "\n",
        "    # Display optimal configuration\n",
        "    best_trial = result.get_best_trial('loss', 'min', 'last')\n",
        "    print(f'Best trial config: {best_trial.config}')\n",
        "    print(f'Best trial final validation loss: {best_trial.last_result[\"loss\"]}')\n",
        "\n",
        "    # Initialise model with best config\n",
        "    best_trained_model = LangyNet(\n",
        "        best_trial.config['hidden_layers'],\n",
        "        best_trial.config['hidden_nodes'],\n",
        "        best_trial.config['p_dropout'])\n",
        "    best_trained_model.apply(init_weights)\n",
        "    device = 'cpu'\n",
        "    if torch.cuda.is_available():\n",
        "        device = 'cuda:0'\n",
        "        if gpus_per_trial > 1:\n",
        "            best_trained_model = nn.DataParallel(best_trained_model)\n",
        "    best_trained_model.to(device)\n",
        "\n",
        "    # Load model state\n",
        "    best_checkpoint_dir = best_trial.checkpoint.value\n",
        "    model_state, optimiser_state = torch.load(os.path.join(\n",
        "        best_checkpoint_dir, 'checkpoint'))\n",
        "    best_trained_model.load_state_dict(model_state)\n",
        "\n",
        "    return best_trained_model"
      ],
      "execution_count": 25,
      "outputs": [
        {
          "output_type": "stream",
          "text": [
            "time: 26.7 ms (started: 2021-04-30 21:35:55 +00:00)\n"
          ],
          "name": "stdout"
        }
      ]
    },
    {
      "cell_type": "markdown",
      "metadata": {
        "id": "UVz0NHomQUyI"
      },
      "source": [
        "## Grid Search"
      ]
    },
    {
      "cell_type": "markdown",
      "metadata": {
        "id": "vcAKDDsLch4_"
      },
      "source": [
        "Perform tuning with a specific search space, exhaustively trialing every possible combination of configured hyperparameters.\n",
        "\n",
        "`tune.grid_search` will exhaustively tune using each configured option. Other hyperparameters are given a single explicit option to use.\n",
        "\n",
        "`num_samples=10` means every possible parameter combination is trialed 10 times.\n",
        "\n"
      ]
    },
    {
      "cell_type": "markdown",
      "metadata": {
        "id": "ihbLy5LLQMfV"
      },
      "source": [
        "### Perform Search"
      ]
    },
    {
      "cell_type": "code",
      "metadata": {
        "id": "TESFaNklgKo6"
      },
      "source": [
        "# Values are chosen as a result of parameter exploration\n",
        "# See Parameter Exploration.ipynb\n",
        "\n",
        "# Parameter search space\n",
        "config = {\n",
        "    'hidden_nodes': tune.grid_search([16, 64, 96]),\n",
        "    'hidden_layers': tune.grid_search([2, 3]),\n",
        "    'p_dropout': 0,\n",
        "    'weight_decay': 0,\n",
        "    'learning_rate': 0.001,\n",
        "    'batch_size': 128,\n",
        "    'epochs': 200,  \n",
        "}\n",
        "\n",
        "grid_search_model = tuning(config, num_samples=10)"
      ],
      "execution_count": null,
      "outputs": []
    },
    {
      "cell_type": "markdown",
      "metadata": {
        "id": "PCCUpy8aqLqh"
      },
      "source": [
        "```\n",
        "Best trial config: {'hidden_nodes': 16, 'hidden_layers': 3, 'p_dropout': 0, 'weight_decay': 0, 'learning_rate': 0.001, 'batch_size': 128, 'epochs': 200}\n",
        "Best trial final validation loss: 8.385678520393956e-07\n",
        "```"
      ]
    },
    {
      "cell_type": "markdown",
      "metadata": {
        "id": "Qc7wQ6al52XB"
      },
      "source": [
        "### Save Model"
      ]
    },
    {
      "cell_type": "code",
      "metadata": {
        "id": "xVdxJSla55aZ"
      },
      "source": [
        "# Save state dict\n",
        "DICT_PATH = '/content/gdrive/MyDrive/Uni/Year 3/ECS635U Project/model_state_dict.pt'\n",
        "\n",
        "torch.save(\n",
        "    grid_search_model.state_dict(),\n",
        "    DICT_PATH)"
      ],
      "execution_count": 20,
      "outputs": []
    },
    {
      "cell_type": "code",
      "metadata": {
        "id": "d-0wNo9_JZr-"
      },
      "source": [
        "# Display state (weights and bias)\n",
        "for param_tensor in grid_search_model.state_dict():\n",
        "    print(param_tensor, '\\n', grid_search_model.state_dict()[param_tensor])"
      ],
      "execution_count": null,
      "outputs": []
    },
    {
      "cell_type": "code",
      "metadata": {
        "id": "0r6qAmOccO88"
      },
      "source": [
        "# Save entire model\n",
        "MODEL_PATH = '/content/gdrive/MyDrive/Uni/Year 3/ECS635U Project/model.pt'\n",
        "\n",
        "torch.save(\n",
        "    grid_search_model,\n",
        "    MODEL_PATH)"
      ],
      "execution_count": 21,
      "outputs": []
    },
    {
      "cell_type": "code",
      "metadata": {
        "colab": {
          "base_uri": "https://localhost:8080/"
        },
        "id": "Zu-LPZSCB9Bx",
        "outputId": "5d1b6009-27fc-422b-cf0e-9ecb2f872c15"
      },
      "source": [
        "# Save the first block\n",
        "BLOCK_PATH = '/content/gdrive/MyDrive/Uni/Year 3/ECS635U Project/model_block.pt'\n",
        "\n",
        "torch.save(\n",
        "    grid_search_model.langy_block_1,\n",
        "    BLOCK_PATH)"
      ],
      "execution_count": 48,
      "outputs": [
        {
          "output_type": "stream",
          "text": [
            "time: 241 ms (started: 2021-04-30 23:06:24 +00:00)\n"
          ],
          "name": "stdout"
        }
      ]
    },
    {
      "cell_type": "markdown",
      "metadata": {
        "id": "TmNSLPbs9chg"
      },
      "source": [
        "### Best Results"
      ]
    },
    {
      "cell_type": "markdown",
      "metadata": {
        "id": "ACP56kFG-qWU"
      },
      "source": [
        "Below shows the top 11 configurations from the grid search, ordered by least validation loss to highest.\n",
        "\n",
        "These are configurations of models which achieved a final validation loss below 1e-4 (0.0001).\n",
        "\n",
        "Where parameter exploration could not conclusively identify the best choice for some parameters, these results reveal that the most performant models tend to use 3 hidden layers and 16 hidden nodes."
      ]
    },
    {
      "cell_type": "markdown",
      "metadata": {
        "id": "QWRCz7Bf-ks9"
      },
      "source": [
        "```\n",
        "+---------------------+------------+-------+-----------------+----------------+-------------+----------------------+\n",
        "| Trial name          | status     | loc   |   hidden_layers |   hidden_nodes |        loss |   training_iteration |\n",
        "|---------------------+------------+-------+-----------------+----------------+-------------+----------------------|\n",
        "| DEFAULT_19ab8_00013 | TERMINATED |       |               3 |             16 | 8.38568e-07 |                   10 |\n",
        "| DEFAULT_19ab8_00017 | TERMINATED |       |               3 |             16 | 1.44506e-06 |                   10 |\n",
        "| DEFAULT_19ab8_00000 | TERMINATED |       |               2 |             16 | 2.04410e-06 |                   10 |\n",
        "| DEFAULT_9f8f3_00000 | TERMINATED |       |               2 |             16 | 2.82208e-06 |                   10 |\n",
        "| DEFAULT_19ab8_00009 | TERMINATED |       |               3 |             16 | 8.57765e-06 |                    8 |\n",
        "| DEFAULT_9f8f3_00035 | TERMINATED |       |               3 |             96 | 1.24422e-05 |                   10 |\n",
        "| DEFAULT_9f8f3_00021 | TERMINATED |       |               3 |             64 | 1.28993e-05 |                    8 |\n",
        "| DEFAULT_9f8f3_00033 | TERMINATED |       |               3 |             64 | 1.29682e-05 |                    8 |\n",
        "| DEFAULT_19ab8_00033 | TERMINATED |       |               3 |             16 | 1.59302e-05 |                    4 |\n",
        "| DEFAULT_19ab8_00025 | TERMINATED |       |               3 |             16 | 2.65368e-05 |                    8 |\n",
        "| DEFAULT_19ab8_00011 | TERMINATED |       |               3 |             64 | 4.82185e-05 |                    4 |\n",
        "+---------------------+------------+-------+-----------------+----------------+-------------+----------------------+\n",
        "```"
      ]
    },
    {
      "cell_type": "markdown",
      "metadata": {
        "id": "prqoFYnGBgBj"
      },
      "source": [
        "### Optimal Configuration"
      ]
    },
    {
      "cell_type": "code",
      "metadata": {
        "colab": {
          "base_uri": "https://localhost:8080/"
        },
        "id": "wNpsr9pJVOId",
        "outputId": "abe63895-6a8e-42e8-c101-827de35da4b6"
      },
      "source": [
        "config_optimal = {\n",
        "    'hidden_layers': 3,\n",
        "    'hidden_nodes': 16,\n",
        "    'p_dropout': 0,\n",
        "    'weight_decay': 0,\n",
        "    'learning_rate': 0.001,\n",
        "    'batch_size': 128,\n",
        "    'epochs': 200,\n",
        "}"
      ],
      "execution_count": 28,
      "outputs": [
        {
          "output_type": "stream",
          "text": [
            "time: 2 ms (started: 2021-04-30 22:25:51 +00:00)\n"
          ],
          "name": "stdout"
        }
      ]
    },
    {
      "cell_type": "markdown",
      "metadata": {
        "id": "qCF-AK9SSBvb"
      },
      "source": [
        "<!-- ![LangyNet Architecture](https://drive.google.com/uc?export=view&id=1ueaNc5Rjrpt-kU8ZbaPG-7QIM_TpfoLY) -->"
      ]
    },
    {
      "cell_type": "markdown",
      "metadata": {
        "id": "EKzwbEAvcMlJ"
      },
      "source": [
        "## Loss Comparison"
      ]
    },
    {
      "cell_type": "markdown",
      "metadata": {
        "id": "nJb1U_31FcTI"
      },
      "source": [
        "Compare loss of two LangyNet models:\n",
        "- `model_base`: using **baseline** configuration, same as in Parameter Exploration notebook\n",
        "- `model_opt`: using **optimal** configuration, found through grid search\n",
        "\n",
        "Consistent across models:\n",
        "- `epochs: 200`\n",
        "- trained using the same random subset of 20,000 examples\n",
        "\n",
        "Note that:\n",
        "- A subset of examples is not necessarily representative of the complete dataset.\n",
        "- A subset was used to decrease training time for comparative purposes.\n",
        "- The models being trained here are only for comparative purposes and will not be used further."
      ]
    },
    {
      "cell_type": "markdown",
      "metadata": {
        "id": "BM55VCjYALmH"
      },
      "source": [
        "### Configurations"
      ]
    },
    {
      "cell_type": "code",
      "metadata": {
        "colab": {
          "base_uri": "https://localhost:8080/"
        },
        "id": "hoF4tqMzRphl",
        "outputId": "f0d13bf8-b29b-4f63-d4c0-36c0c1417099"
      },
      "source": [
        "# Baseline configuration\n",
        "config_base = {\n",
        "    'hidden_layers': 1,\n",
        "    'hidden_nodes': 16,\n",
        "    'p_dropout': 0,\n",
        "    'weight_decay': 0,\n",
        "    'learning_rate': 0.01,\n",
        "    'batch_size': 64,\n",
        "    'epochs': 200,\n",
        "}\n",
        "\n",
        "# Optimal configuration\n",
        "config_optimal = {\n",
        "    'hidden_layers': 3,\n",
        "    'hidden_nodes': 16,\n",
        "    'p_dropout': 0,\n",
        "    'weight_decay': 0,\n",
        "    'learning_rate': 0.001,\n",
        "    'batch_size': 128,\n",
        "    'epochs': 200,\n",
        "}"
      ],
      "execution_count": 75,
      "outputs": [
        {
          "output_type": "stream",
          "text": [
            "time: 4.15 ms (started: 2021-05-01 00:12:36 +00:00)\n"
          ],
          "name": "stdout"
        }
      ]
    },
    {
      "cell_type": "markdown",
      "metadata": {
        "id": "X9ys8euXANm7"
      },
      "source": [
        "### Training"
      ]
    },
    {
      "cell_type": "code",
      "metadata": {
        "id": "krUVs1csSUHY"
      },
      "source": [
        "model_base, history_base, = train(\n",
        "    config_base,\n",
        "    datapoints=20000,\n",
        "    random_state=1)"
      ],
      "execution_count": null,
      "outputs": []
    },
    {
      "cell_type": "code",
      "metadata": {
        "id": "wOn1aTXUbcU8"
      },
      "source": [
        "model_opt, history_opt, = train(\n",
        "    config_optimal,\n",
        "    datapoints=20000,\n",
        "    random_state=1)"
      ],
      "execution_count": null,
      "outputs": []
    },
    {
      "cell_type": "markdown",
      "metadata": {
        "id": "YSl62DPpAQz9"
      },
      "source": [
        "### Plot: Training Loss"
      ]
    },
    {
      "cell_type": "code",
      "metadata": {
        "colab": {
          "base_uri": "https://localhost:8080/",
          "height": 426
        },
        "id": "kuWqkv6oYE0D",
        "outputId": "a735adb7-4b58-4588-d653-a7f2d2db55dd"
      },
      "source": [
        "plt.figure(figsize=(8, 6))\n",
        "plt.title('Comparison of Training Loss', fontsize=18)\n",
        "plt.plot(history_base['train_loss'], label='baseline')\n",
        "plt.plot(history_opt['train_loss'], label='optimal')\n",
        "plt.xlabel('epoch', fontsize=16)\n",
        "plt.ylabel('train_loss', fontsize=16)\n",
        "plt.ylim(0, 0.000015)\n",
        "plt.legend(\n",
        "    title='config',\n",
        "    title_fontsize=16,\n",
        "    fontsize=14,\n",
        "    loc='upper right')\n",
        "plt.show()"
      ],
      "execution_count": 54,
      "outputs": [
        {
          "output_type": "display_data",
          "data": {
            "image/png": "[encoded data removed]",
            "text/plain": [
              "<Figure size 576x432 with 1 Axes>"
            ]
          },
          "metadata": {
            "tags": []
          }
        },
        {
          "output_type": "stream",
          "text": [
            "time: 203 ms (started: 2021-04-30 23:36:00 +00:00)\n"
          ],
          "name": "stdout"
        }
      ]
    },
    {
      "cell_type": "markdown",
      "metadata": {
        "id": "ymjANd10AzAE"
      },
      "source": [
        "### Plot: Validation Loss"
      ]
    },
    {
      "cell_type": "code",
      "metadata": {
        "colab": {
          "base_uri": "https://localhost:8080/",
          "height": 426
        },
        "id": "wDEkw348k-__",
        "outputId": "7139c5ac-57a4-4905-e979-1aa88a4f324e"
      },
      "source": [
        "plt.figure(figsize=(8, 6))\n",
        "plt.title('Comparison of Validation Loss', fontsize=18)\n",
        "plt.plot(history_base['val_loss'], label='baseline')\n",
        "plt.plot(history_opt['val_loss'], label='optimal')\n",
        "plt.xlabel('epoch', fontsize=16)\n",
        "plt.ylabel('val_loss', fontsize=16)\n",
        "plt.ylim(0, 0.001)\n",
        "plt.legend(\n",
        "    title='config',\n",
        "    title_fontsize=16,\n",
        "    fontsize=14,\n",
        "    loc='upper right')\n",
        "plt.show()"
      ],
      "execution_count": 60,
      "outputs": [
        {
          "output_type": "display_data",
          "data": {
            "image/png": "[encoded data removed]",
            "text/plain": [
              "<Figure size 576x432 with 1 Axes>"
            ]
          },
          "metadata": {
            "tags": []
          }
        },
        {
          "output_type": "stream",
          "text": [
            "time: 191 ms (started: 2021-04-30 23:40:37 +00:00)\n"
          ],
          "name": "stdout"
        }
      ]
    },
    {
      "cell_type": "markdown",
      "metadata": {
        "id": "Z3G8gSBIZtCj"
      },
      "source": [
        "**Spikes in validation loss** are expected and are a consequence of training with some form of stochastic or mini-batch gradient descent.\n",
        "\n",
        "Training is performed over epochs, each of which involves pass over the complete dataset. Here we train using mini-batches of data, with an epoch of training requiring several steps to process all mini-batches.\n",
        "\n",
        "Each step involves selecting a number of examples = batch_size, computing a prediction, calculating loss, then updating the model. A spike occurs when a model update increases the loss due to the particular examples seen, rather than decreasing it. The model cannot generalise as well for the examples in this mini-batch compared to those from the previous.\n",
        "\n",
        "Sources:\n",
        "- [Batch, Mini Batch & Stochastic Gradient Descent](https://towardsdatascience.com/batch-mini-batch-stochastic-gradient-descent-7a62ecba642a)\n",
        "- [Doubts regarding training loss, validation loss and number of epochs](https://forums.fast.ai/t/doubts-regarding-training-loss-validation-loss-and-number-of-epochs/60734/2)\n",
        "- [Explanation of Spikes in training loss vs. iterations with Adam Optimizer](https://stats.stackexchange.com/a/304150)\n",
        "- [Why does the loss/accuracy fluctuate during the training?](https://stats.stackexchange.com/a/384995)\n",
        "\n"
      ]
    },
    {
      "cell_type": "markdown",
      "metadata": {
        "id": "cBWFm9-ik0Qi"
      },
      "source": [
        "# Testing"
      ]
    },
    {
      "cell_type": "markdown",
      "metadata": {
        "id": "ZF2rsP6FmdlF"
      },
      "source": [
        "## Testing Function"
      ]
    },
    {
      "cell_type": "code",
      "metadata": {
        "colab": {
          "base_uri": "https://localhost:8080/"
        },
        "id": "2XJjhRU_mieH",
        "outputId": "06be5d84-e9e5-4499-ca1d-0d4e187c4daa"
      },
      "source": [
        "def test(model, batch_size=128, verbose=True):\n",
        "    \"\"\"\n",
        "    Tests a model.\n",
        "\n",
        "    Parameters\n",
        "    ----------\n",
        "    model : LangyNet\n",
        "        The model to test.\n",
        "    batch_size : int, default=128\n",
        "        Number of examples per batch.\n",
        "    verbose : bool, default=True\n",
        "        Control whether to print loss while testing.\n",
        "    \n",
        "    Returns\n",
        "    -------\n",
        "    test_loss : list of float\n",
        "        History of testing loss.\n",
        "    min : float\n",
        "        Minimum testing loss of a single batch.\n",
        "    max : float\n",
        "        Maximum testing loss of a single batch.\n",
        "    avg : float\n",
        "        Average testing loss across all batches.\n",
        "    \"\"\"\n",
        "\n",
        "    if isinstance(model, torch.nn.Module):\n",
        "        model.eval()  # evaluation mode\n",
        "\n",
        "    # CPU/GPU processing\n",
        "    device = 'cpu'\n",
        "    if torch.cuda.is_available():\n",
        "        device = 'cuda:0'\n",
        "        if torch.cuda.device_count() > 1:\n",
        "            model = nn.DataParallel(model)\n",
        "    model.to(device)\n",
        "\n",
        "    # Ensure we test on unseen data\n",
        "    # random_state=1 used by tuning function to produce model\n",
        "    train_dataset, test_dataset = load_data(random_state=1)\n",
        "    test_loader = data.DataLoader(test_dataset, batch_size, shuffle=True)\n",
        "    if verbose:\n",
        "        print(f'Testing dataset contains {len(test_dataset)} examples.\\n'\n",
        "              f'Batch size set to {batch_size}.\\n')\n",
        "\n",
        "    # Calculate and track loss\n",
        "    loss_fn = nn.MSELoss()\n",
        "    test_loss = []\n",
        "    min, max = 0, 0\n",
        "\n",
        "    for batch, (X, y) in enumerate(test_loader):\n",
        "        with torch.no_grad():\n",
        "            # CPU/GPU processing\n",
        "            X, y = X.to(device), y.to(device)\n",
        "\n",
        "            # Computations\n",
        "            y_hat = model(X)          # compute prediction\n",
        "            loss = loss_fn(y_hat, y)  # calculate loss\n",
        "\n",
        "            # Track batch loss\n",
        "            # sum of testing loss / number of examples\n",
        "            batch_loss = float(loss.sum()) / y.numel()\n",
        "            test_loss.append(batch_loss)\n",
        "            if batch == 0:\n",
        "                min, max = batch_loss, batch_loss\n",
        "            else:\n",
        "                if batch_loss < min: min = batch_loss\n",
        "                if batch_loss > max: max = batch_loss\n",
        "\n",
        "            # Display loss\n",
        "            if verbose and (batch == 0 or (batch + 1) % 100 == 0):\n",
        "                print(f'batch {batch+1 :<4} ',\n",
        "                      f'test_loss={batch_loss:.11f}')\n",
        "\n",
        "    avg = sum(test_loss) / len(test_loss)\n",
        "    if verbose:\n",
        "        print('\\n\\n',\n",
        "              f'min={min:.11f} ({min})\\n',\n",
        "              f'max={max:.11f} ({max})\\n',\n",
        "              f'avg={avg:.11f} ({avg})\\n')\n",
        "\n",
        "    return test_loss, min, max, avg"
      ],
      "execution_count": 55,
      "outputs": [
        {
          "output_type": "stream",
          "text": [
            "time: 44.6 ms (started: 2021-04-30 23:36:59 +00:00)\n"
          ],
          "name": "stdout"
        }
      ]
    },
    {
      "cell_type": "markdown",
      "metadata": {
        "id": "LCOhppjOmcNn"
      },
      "source": [
        "## Load Model"
      ]
    },
    {
      "cell_type": "code",
      "metadata": {
        "colab": {
          "base_uri": "https://localhost:8080/"
        },
        "id": "mFyvX9m2jwRY",
        "outputId": "fcdf991a-b8fe-41bc-cea6-338ecf4389bf"
      },
      "source": [
        "MODEL_PATH = '/content/gdrive/MyDrive/Uni/Year 3/ECS635U Project/model.pt'\n",
        "DICT_PATH = '/content/gdrive/MyDrive/Uni/Year 3/ECS635U Project/model_state_dict.pt'\n",
        "\n",
        "# CPU/GPU processing\n",
        "device = 'cpu'\n",
        "if torch.cuda.is_available():\n",
        "    device = 'cuda:0'\n",
        "\n",
        "model = torch.load(MODEL_PATH)\n",
        "model.to(device)\n",
        "model.eval()"
      ],
      "execution_count": 69,
      "outputs": [
        {
          "output_type": "execute_result",
          "data": {
            "text/plain": [
              "LangyNet(\n",
              "  (langy_block_1): LangyBlock(\n",
              "    (hid1): Linear(in_features=10, out_features=16, bias=True)\n",
              "    (act1): ReLU()\n",
              "    (drop1): Dropout(p=0, inplace=False)\n",
              "  )\n",
              "  (langy_block_2): LangyBlock(\n",
              "    (hid2): Linear(in_features=16, out_features=16, bias=True)\n",
              "    (act2): ReLU()\n",
              "    (drop2): Dropout(p=0, inplace=False)\n",
              "  )\n",
              "  (langy_block_3): LangyBlock(\n",
              "    (hid3): Linear(in_features=16, out_features=16, bias=True)\n",
              "    (act3): ReLU()\n",
              "    (drop3): Dropout(p=0, inplace=False)\n",
              "  )\n",
              "  (output): Linear(in_features=16, out_features=1, bias=True)\n",
              ")"
            ]
          },
          "metadata": {
            "tags": []
          },
          "execution_count": 69
        },
        {
          "output_type": "stream",
          "text": [
            "time: 12.4 ms (started: 2021-04-30 23:52:51 +00:00)\n"
          ],
          "name": "stdout"
        }
      ]
    },
    {
      "cell_type": "code",
      "metadata": {
        "id": "-dP5g9tmb0lM"
      },
      "source": [
        "# # Alternatively, load model by using state dict\n",
        "\n",
        "# # Initialise model\n",
        "# model = LangyNet(\n",
        "#     hidden_layers=3,\n",
        "#     hidden_nodes=16,\n",
        "#     p_dropout=0)\n",
        "\n",
        "# # Load state\n",
        "# model.load_state_dict(torch.load(\n",
        "#     DICT_PATH,\n",
        "#     map_location=torch.device(device)))\n",
        "\n",
        "# # Set model to evaluation mode\n",
        "# model.eval()"
      ],
      "execution_count": null,
      "outputs": []
    },
    {
      "cell_type": "markdown",
      "metadata": {
        "id": "e-8Bi4I6zwqP"
      },
      "source": [
        "## Perform Testing"
      ]
    },
    {
      "cell_type": "code",
      "metadata": {
        "id": "CmEJQTcMl0p9",
        "colab": {
          "base_uri": "https://localhost:8080/"
        },
        "outputId": "b5317210-7c86-464a-d7dd-1081154a7542"
      },
      "source": [
        "test_loss, min, max, avg = test(model)"
      ],
      "execution_count": 70,
      "outputs": [
        {
          "output_type": "stream",
          "text": [
            "Testing dataset contains 146763 examples.\n",
            "Batch size set to 128.\n",
            "\n",
            "batch 1     test_loss=0.00000000791\n",
            "batch 100   test_loss=0.00000000637\n",
            "batch 200   test_loss=0.00000000554\n",
            "batch 300   test_loss=0.00000000647\n",
            "batch 400   test_loss=0.00000000589\n",
            "batch 500   test_loss=0.00000000619\n",
            "batch 600   test_loss=0.00000000556\n",
            "batch 700   test_loss=0.00000000744\n",
            "batch 800   test_loss=0.00000000674\n",
            "batch 900   test_loss=0.00000000559\n",
            "batch 1000  test_loss=0.00000000571\n",
            "batch 1100  test_loss=0.00000000537\n",
            "\n",
            "\n",
            " min=0.00000000343 (3.4347957811320384e-09)\n",
            " max=0.00000001197 (1.197352705872845e-08)\n",
            " avg=0.00000000651 (6.506995128693266e-09)\n",
            "\n",
            "time: 3 s (started: 2021-04-30 23:52:55 +00:00)\n"
          ],
          "name": "stdout"
        }
      ]
    },
    {
      "cell_type": "markdown",
      "metadata": {
        "id": "BeLDhVqW0BaC"
      },
      "source": [
        "## Plot: Testing Loss"
      ]
    },
    {
      "cell_type": "code",
      "metadata": {
        "colab": {
          "base_uri": "https://localhost:8080/",
          "height": 426
        },
        "id": "JBcgvncEzWj7",
        "outputId": "4e37766f-9744-417b-91dc-83da6266afcb"
      },
      "source": [
        "plt.figure(figsize=(8, 6))\n",
        "plt.title('Testing Loss over Batches', fontsize=18)\n",
        "plt.plot(test_loss)\n",
        "plt.xlabel('batch', fontsize=16)\n",
        "plt.ylabel('loss', fontsize=16)\n",
        "plt.ylim(0, 0.00000002)\n",
        "plt.show()"
      ],
      "execution_count": 74,
      "outputs": [
        {
          "output_type": "display_data",
          "data": {
            "image/png": "[encoded data removed]",
            "text/plain": [
              "<Figure size 576x432 with 1 Axes>"
            ]
          },
          "metadata": {
            "tags": []
          }
        },
        {
          "output_type": "stream",
          "text": [
            "time: 192 ms (started: 2021-04-30 23:54:38 +00:00)\n"
          ],
          "name": "stdout"
        }
      ]
    },
    {
      "cell_type": "code",
      "metadata": {
        "id": "DaFEEkH2M91a"
      },
      "source": [
        ""
      ],
      "execution_count": null,
      "outputs": []
    }
  ]
}