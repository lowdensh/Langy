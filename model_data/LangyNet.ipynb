{
  "nbformat": 4,
  "nbformat_minor": 0,
  "metadata": {
    "colab": {
      "name": "LangyNet",
      "provenance": [],
      "collapsed_sections": [
        "VG4HYEJUoa7k",
        "0kgaXq5nM-MR"
      ],
      "toc_visible": true
    },
    "kernelspec": {
      "display_name": "Python 3",
      "name": "python3"
    },
    "language_info": {
      "name": "python"
    },
    "accelerator": "GPU"
  },
  "cells": [
    {
      "cell_type": "markdown",
      "metadata": {
        "id": "VG4HYEJUoa7k"
      },
      "source": [
        "# Preliminary"
      ]
    },
    {
      "cell_type": "code",
      "metadata": {
        "colab": {
          "base_uri": "https://localhost:8080/"
        },
        "id": "5Q-rq4w_1-n_",
        "outputId": "1093755f-ae32-420b-d059-735ebeafb6e0"
      },
      "source": [
        "# Check gpu runtime\n",
        "from psutil import virtual_memory\n",
        "gpu_info = !nvidia-smi\n",
        "gpu_info = '\\n'.join(gpu_info)\n",
        "\n",
        "if gpu_info.find('failed') >= 0:\n",
        "    print('Select the Runtime > \"Change runtime type\" menu to enable a GPU accelerator, ')\n",
        "    print('and then re-execute this cell.')\n",
        "else:\n",
        "    print(gpu_info)\n",
        "    ram_gb = virtual_memory().total / 1e9\n",
        "    print('\\n')\n",
        "    print('Your runtime has {:.1f} gigabytes of available RAM\\n'.format(ram_gb))"
      ],
      "execution_count": null,
      "outputs": [
        {
          "output_type": "stream",
          "text": [
            "Tue Apr 20 07:40:32 2021       \n",
            "+-----------------------------------------------------------------------------+\n",
            "| NVIDIA-SMI 460.67       Driver Version: 460.32.03    CUDA Version: 11.2     |\n",
            "|-------------------------------+----------------------+----------------------+\n",
            "| GPU  Name        Persistence-M| Bus-Id        Disp.A | Volatile Uncorr. ECC |\n",
            "| Fan  Temp  Perf  Pwr:Usage/Cap|         Memory-Usage | GPU-Util  Compute M. |\n",
            "|                               |                      |               MIG M. |\n",
            "|===============================+======================+======================|\n",
            "|   0  Tesla P100-PCIE...  Off  | 00000000:00:04.0 Off |                    0 |\n",
            "| N/A   32C    P0    28W / 250W |      0MiB / 16280MiB |      0%      Default |\n",
            "|                               |                      |                  N/A |\n",
            "+-------------------------------+----------------------+----------------------+\n",
            "                                                                               \n",
            "+-----------------------------------------------------------------------------+\n",
            "| Processes:                                                                  |\n",
            "|  GPU   GI   CI        PID   Type   Process name                  GPU Memory |\n",
            "|        ID   ID                                                   Usage      |\n",
            "|=============================================================================|\n",
            "|  No running processes found                                                 |\n",
            "+-----------------------------------------------------------------------------+\n",
            "\n",
            "\n",
            "Your runtime has 13.7 gigabytes of available RAM\n",
            "\n"
          ],
          "name": "stdout"
        }
      ]
    },
    {
      "cell_type": "code",
      "metadata": {
        "colab": {
          "base_uri": "https://localhost:8080/"
        },
        "id": "DcewF5blUOZx",
        "outputId": "c26ab1fb-705e-4265-afc9-7abe8b0a8daf"
      },
      "source": [
        "# Time code cell execution\n",
        "!pip install ipython-autotime\n",
        "%load_ext autotime"
      ],
      "execution_count": null,
      "outputs": [
        {
          "output_type": "stream",
          "text": [
            "Collecting ipython-autotime\n",
            "  Downloading https://files.pythonhosted.org/packages/b4/c9/b413a24f759641bc27ef98c144b590023c8038dfb8a3f09e713e9dff12c1/ipython_autotime-0.3.1-py2.py3-none-any.whl\n",
            "Requirement already satisfied: ipython in /usr/local/lib/python3.7/dist-packages (from ipython-autotime) (5.5.0)\n",
            "Requirement already satisfied: decorator in /usr/local/lib/python3.7/dist-packages (from ipython->ipython-autotime) (4.4.2)\n",
            "Requirement already satisfied: setuptools>=18.5 in /usr/local/lib/python3.7/dist-packages (from ipython->ipython-autotime) (54.2.0)\n",
            "Requirement already satisfied: pexpect; sys_platform != \"win32\" in /usr/local/lib/python3.7/dist-packages (from ipython->ipython-autotime) (4.8.0)\n",
            "Requirement already satisfied: pickleshare in /usr/local/lib/python3.7/dist-packages (from ipython->ipython-autotime) (0.7.5)\n",
            "Requirement already satisfied: traitlets>=4.2 in /usr/local/lib/python3.7/dist-packages (from ipython->ipython-autotime) (5.0.5)\n",
            "Requirement already satisfied: prompt-toolkit<2.0.0,>=1.0.4 in /usr/local/lib/python3.7/dist-packages (from ipython->ipython-autotime) (1.0.18)\n",
            "Requirement already satisfied: pygments in /usr/local/lib/python3.7/dist-packages (from ipython->ipython-autotime) (2.6.1)\n",
            "Requirement already satisfied: simplegeneric>0.8 in /usr/local/lib/python3.7/dist-packages (from ipython->ipython-autotime) (0.8.1)\n",
            "Requirement already satisfied: ptyprocess>=0.5 in /usr/local/lib/python3.7/dist-packages (from pexpect; sys_platform != \"win32\"->ipython->ipython-autotime) (0.7.0)\n",
            "Requirement already satisfied: ipython-genutils in /usr/local/lib/python3.7/dist-packages (from traitlets>=4.2->ipython->ipython-autotime) (0.2.0)\n",
            "Requirement already satisfied: six>=1.9.0 in /usr/local/lib/python3.7/dist-packages (from prompt-toolkit<2.0.0,>=1.0.4->ipython->ipython-autotime) (1.15.0)\n",
            "Requirement already satisfied: wcwidth in /usr/local/lib/python3.7/dist-packages (from prompt-toolkit<2.0.0,>=1.0.4->ipython->ipython-autotime) (0.2.5)\n",
            "Installing collected packages: ipython-autotime\n",
            "Successfully installed ipython-autotime-0.3.1\n",
            "time: 143 µs (started: 2021-04-20 07:40:40 +00:00)\n"
          ],
          "name": "stdout"
        }
      ]
    },
    {
      "cell_type": "code",
      "metadata": {
        "colab": {
          "base_uri": "https://localhost:8080/"
        },
        "id": "45zmMDLsJ7Q7",
        "outputId": "7a58cc2c-ee6b-4afe-d742-e8446dd13402"
      },
      "source": [
        "# Hyperparameter tuning\n",
        "!pip install ray"
      ],
      "execution_count": null,
      "outputs": [
        {
          "output_type": "stream",
          "text": [
            "Collecting ray\n",
            "\u001b[?25l  Downloading https://files.pythonhosted.org/packages/11/14/15d0f0aec20a4674a996429160565a071688f27f49f789327ebed8188ffb/ray-1.2.0-cp37-cp37m-manylinux2014_x86_64.whl (47.5MB)\n",
            "\u001b[K     |████████████████████████████████| 47.5MB 104kB/s \n",
            "\u001b[?25hRequirement already satisfied: jsonschema in /usr/local/lib/python3.7/dist-packages (from ray) (2.6.0)\n",
            "Requirement already satisfied: click>=7.0 in /usr/local/lib/python3.7/dist-packages (from ray) (7.1.2)\n",
            "Requirement already satisfied: prometheus-client>=0.7.1 in /usr/local/lib/python3.7/dist-packages (from ray) (0.10.1)\n",
            "Collecting colorama\n",
            "  Downloading https://files.pythonhosted.org/packages/44/98/5b86278fbbf250d239ae0ecb724f8572af1c91f4a11edf4d36a206189440/colorama-0.4.4-py2.py3-none-any.whl\n",
            "Requirement already satisfied: filelock in /usr/local/lib/python3.7/dist-packages (from ray) (3.0.12)\n",
            "Requirement already satisfied: pyyaml in /usr/local/lib/python3.7/dist-packages (from ray) (3.13)\n",
            "Collecting colorful\n",
            "\u001b[?25l  Downloading https://files.pythonhosted.org/packages/b0/8e/e386e248266952d24d73ed734c2f5513f34d9557032618c8910e605dfaf6/colorful-0.5.4-py2.py3-none-any.whl (201kB)\n",
            "\u001b[K     |████████████████████████████████| 204kB 57.0MB/s \n",
            "\u001b[?25hCollecting py-spy>=0.2.0\n",
            "\u001b[?25l  Downloading https://files.pythonhosted.org/packages/fa/a6/52515fe345fad06a567feb0ee3841bface31f00e1e0dcd401aa16b3fc648/py_spy-0.3.5-py2.py3-none-manylinux1_x86_64.whl (3.1MB)\n",
            "\u001b[K     |████████████████████████████████| 3.1MB 38.1MB/s \n",
            "\u001b[?25hCollecting aioredis\n",
            "\u001b[?25l  Downloading https://files.pythonhosted.org/packages/b0/64/1b1612d0a104f21f80eb4c6e1b6075f2e6aba8e228f46f229cfd3fdac859/aioredis-1.3.1-py3-none-any.whl (65kB)\n",
            "\u001b[K     |████████████████████████████████| 71kB 10.3MB/s \n",
            "\u001b[?25hCollecting aiohttp-cors\n",
            "  Downloading https://files.pythonhosted.org/packages/13/e7/e436a0c0eb5127d8b491a9b83ecd2391c6ff7dcd5548dfaec2080a2340fd/aiohttp_cors-0.7.0-py3-none-any.whl\n",
            "Collecting redis>=3.5.0\n",
            "\u001b[?25l  Downloading https://files.pythonhosted.org/packages/a7/7c/24fb0511df653cf1a5d938d8f5d19802a88cef255706fdda242ff97e91b7/redis-3.5.3-py2.py3-none-any.whl (72kB)\n",
            "\u001b[K     |████████████████████████████████| 81kB 12.6MB/s \n",
            "\u001b[?25hCollecting gpustat\n",
            "\u001b[?25l  Downloading https://files.pythonhosted.org/packages/b4/69/d8c849715171aeabd61af7da080fdc60948b5a396d2422f1f4672e43d008/gpustat-0.6.0.tar.gz (78kB)\n",
            "\u001b[K     |████████████████████████████████| 81kB 11.3MB/s \n",
            "\u001b[?25hCollecting aiohttp\n",
            "\u001b[?25l  Downloading https://files.pythonhosted.org/packages/88/c0/5890b4c8b04a79b7360e8fe4490feb0bb3ab179743f199f0e6220cebd568/aiohttp-3.7.4.post0-cp37-cp37m-manylinux2014_x86_64.whl (1.3MB)\n",
            "\u001b[K     |████████████████████████████████| 1.3MB 49.3MB/s \n",
            "\u001b[?25hRequirement already satisfied: numpy>=1.16 in /usr/local/lib/python3.7/dist-packages (from ray) (1.19.5)\n",
            "Requirement already satisfied: msgpack<2.0.0,>=1.0.0 in /usr/local/lib/python3.7/dist-packages (from ray) (1.0.2)\n",
            "Requirement already satisfied: protobuf>=3.8.0 in /usr/local/lib/python3.7/dist-packages (from ray) (3.12.4)\n",
            "Collecting opencensus\n",
            "\u001b[?25l  Downloading https://files.pythonhosted.org/packages/e2/d6/b952f11b29c3a0cbec5620de3c4260cecd8c4329d83e91587edb48691e15/opencensus-0.7.12-py2.py3-none-any.whl (127kB)\n",
            "\u001b[K     |████████████████████████████████| 133kB 60.6MB/s \n",
            "\u001b[?25hRequirement already satisfied: requests in /usr/local/lib/python3.7/dist-packages (from ray) (2.23.0)\n",
            "Requirement already satisfied: grpcio>=1.28.1 in /usr/local/lib/python3.7/dist-packages (from ray) (1.32.0)\n",
            "Collecting async-timeout\n",
            "  Downloading https://files.pythonhosted.org/packages/e1/1e/5a4441be21b0726c4464f3f23c8b19628372f606755a9d2e46c187e65ec4/async_timeout-3.0.1-py3-none-any.whl\n",
            "Collecting hiredis\n",
            "\u001b[?25l  Downloading https://files.pythonhosted.org/packages/ed/33/290cea35b09c80b4634773ad5572a8030a87b5d39736719f698f521d2a13/hiredis-2.0.0-cp37-cp37m-manylinux2010_x86_64.whl (85kB)\n",
            "\u001b[K     |████████████████████████████████| 92kB 13.9MB/s \n",
            "\u001b[?25hRequirement already satisfied: six>=1.7 in /usr/local/lib/python3.7/dist-packages (from gpustat->ray) (1.15.0)\n",
            "Requirement already satisfied: nvidia-ml-py3>=7.352.0 in /usr/local/lib/python3.7/dist-packages (from gpustat->ray) (7.352.0)\n",
            "Requirement already satisfied: psutil in /usr/local/lib/python3.7/dist-packages (from gpustat->ray) (5.4.8)\n",
            "Collecting blessings>=1.6\n",
            "  Downloading https://files.pythonhosted.org/packages/03/74/489f85a78247609c6b4f13733cbf3ba0d864b11aa565617b645d6fdf2a4a/blessings-1.7-py3-none-any.whl\n",
            "Collecting yarl<2.0,>=1.0\n",
            "\u001b[?25l  Downloading https://files.pythonhosted.org/packages/f1/62/046834c5fc998c88ab2ef722f5d42122230a632212c8afa76418324f53ff/yarl-1.6.3-cp37-cp37m-manylinux2014_x86_64.whl (294kB)\n",
            "\u001b[K     |████████████████████████████████| 296kB 55.1MB/s \n",
            "\u001b[?25hRequirement already satisfied: chardet<5.0,>=2.0 in /usr/local/lib/python3.7/dist-packages (from aiohttp->ray) (3.0.4)\n",
            "Requirement already satisfied: attrs>=17.3.0 in /usr/local/lib/python3.7/dist-packages (from aiohttp->ray) (20.3.0)\n",
            "Requirement already satisfied: typing-extensions>=3.6.5 in /usr/local/lib/python3.7/dist-packages (from aiohttp->ray) (3.7.4.3)\n",
            "Collecting multidict<7.0,>=4.5\n",
            "\u001b[?25l  Downloading https://files.pythonhosted.org/packages/7c/a6/4123b8165acbe773d1a8dc8e3f0d1edea16d29f7de018eda769abb56bd30/multidict-5.1.0-cp37-cp37m-manylinux2014_x86_64.whl (142kB)\n",
            "\u001b[K     |████████████████████████████████| 143kB 56.8MB/s \n",
            "\u001b[?25hRequirement already satisfied: setuptools in /usr/local/lib/python3.7/dist-packages (from protobuf>=3.8.0->ray) (54.2.0)\n",
            "Requirement already satisfied: google-api-core<2.0.0,>=1.0.0 in /usr/local/lib/python3.7/dist-packages (from opencensus->ray) (1.26.3)\n",
            "Collecting opencensus-context==0.1.2\n",
            "  Downloading https://files.pythonhosted.org/packages/f1/33/990f1bd9e7ee770fc8d3c154fc24743a96f16a0e49e14e1b7540cc2fdd93/opencensus_context-0.1.2-py2.py3-none-any.whl\n",
            "Requirement already satisfied: urllib3!=1.25.0,!=1.25.1,<1.26,>=1.21.1 in /usr/local/lib/python3.7/dist-packages (from requests->ray) (1.24.3)\n",
            "Requirement already satisfied: idna<3,>=2.5 in /usr/local/lib/python3.7/dist-packages (from requests->ray) (2.10)\n",
            "Requirement already satisfied: certifi>=2017.4.17 in /usr/local/lib/python3.7/dist-packages (from requests->ray) (2020.12.5)\n",
            "Requirement already satisfied: googleapis-common-protos<2.0dev,>=1.6.0 in /usr/local/lib/python3.7/dist-packages (from google-api-core<2.0.0,>=1.0.0->opencensus->ray) (1.53.0)\n",
            "Requirement already satisfied: google-auth<2.0dev,>=1.21.1 in /usr/local/lib/python3.7/dist-packages (from google-api-core<2.0.0,>=1.0.0->opencensus->ray) (1.28.1)\n",
            "Requirement already satisfied: packaging>=14.3 in /usr/local/lib/python3.7/dist-packages (from google-api-core<2.0.0,>=1.0.0->opencensus->ray) (20.9)\n",
            "Requirement already satisfied: pytz in /usr/local/lib/python3.7/dist-packages (from google-api-core<2.0.0,>=1.0.0->opencensus->ray) (2018.9)\n",
            "Requirement already satisfied: pyasn1-modules>=0.2.1 in /usr/local/lib/python3.7/dist-packages (from google-auth<2.0dev,>=1.21.1->google-api-core<2.0.0,>=1.0.0->opencensus->ray) (0.2.8)\n",
            "Requirement already satisfied: rsa<5,>=3.1.4; python_version >= \"3.6\" in /usr/local/lib/python3.7/dist-packages (from google-auth<2.0dev,>=1.21.1->google-api-core<2.0.0,>=1.0.0->opencensus->ray) (4.7.2)\n",
            "Requirement already satisfied: cachetools<5.0,>=2.0.0 in /usr/local/lib/python3.7/dist-packages (from google-auth<2.0dev,>=1.21.1->google-api-core<2.0.0,>=1.0.0->opencensus->ray) (4.2.1)\n",
            "Requirement already satisfied: pyparsing>=2.0.2 in /usr/local/lib/python3.7/dist-packages (from packaging>=14.3->google-api-core<2.0.0,>=1.0.0->opencensus->ray) (2.4.7)\n",
            "Requirement already satisfied: pyasn1<0.5.0,>=0.4.6 in /usr/local/lib/python3.7/dist-packages (from pyasn1-modules>=0.2.1->google-auth<2.0dev,>=1.21.1->google-api-core<2.0.0,>=1.0.0->opencensus->ray) (0.4.8)\n",
            "Building wheels for collected packages: gpustat\n",
            "  Building wheel for gpustat (setup.py) ... \u001b[?25l\u001b[?25hdone\n",
            "  Created wheel for gpustat: filename=gpustat-0.6.0-cp37-none-any.whl size=12621 sha256=6741ff099f0a2f2e5cf59bd4f6ca74ba0375b8b2f0e3bd95f68e167de5e66204\n",
            "  Stored in directory: /root/.cache/pip/wheels/48/b4/d5/fb5b7f1d040f2ff20687e3bad6867d63155dbde5a7c10f4293\n",
            "Successfully built gpustat\n",
            "Installing collected packages: colorama, colorful, py-spy, async-timeout, hiredis, aioredis, multidict, yarl, aiohttp, aiohttp-cors, redis, blessings, gpustat, opencensus-context, opencensus, ray\n",
            "Successfully installed aiohttp-3.7.4.post0 aiohttp-cors-0.7.0 aioredis-1.3.1 async-timeout-3.0.1 blessings-1.7 colorama-0.4.4 colorful-0.5.4 gpustat-0.6.0 hiredis-2.0.0 multidict-5.1.0 opencensus-0.7.12 opencensus-context-0.1.2 py-spy-0.3.5 ray-1.2.0 redis-3.5.3 yarl-1.6.3\n",
            "time: 15.4 s (started: 2021-04-20 07:40:43 +00:00)\n"
          ],
          "name": "stdout"
        }
      ]
    },
    {
      "cell_type": "code",
      "metadata": {
        "colab": {
          "base_uri": "https://localhost:8080/"
        },
        "id": "NjGx2uGYbrr9",
        "outputId": "297db489-0c61-472a-cd77-c7ae7b8e5d56"
      },
      "source": [
        "# Hyperparameter tuning\n",
        "!pip install tensorboardX"
      ],
      "execution_count": null,
      "outputs": [
        {
          "output_type": "stream",
          "text": [
            "Collecting tensorboardX\n",
            "\u001b[?25l  Downloading https://files.pythonhosted.org/packages/07/84/46421bd3e0e89a92682b1a38b40efc22dafb6d8e3d947e4ceefd4a5fabc7/tensorboardX-2.2-py2.py3-none-any.whl (120kB)\n",
            "\r\u001b[K     |██▊                             | 10kB 21.4MB/s eta 0:00:01\r\u001b[K     |█████▍                          | 20kB 15.5MB/s eta 0:00:01\r\u001b[K     |████████▏                       | 30kB 10.7MB/s eta 0:00:01\r\u001b[K     |██████████▉                     | 40kB 8.9MB/s eta 0:00:01\r\u001b[K     |█████████████▋                  | 51kB 4.3MB/s eta 0:00:01\r\u001b[K     |████████████████▎               | 61kB 4.9MB/s eta 0:00:01\r\u001b[K     |███████████████████             | 71kB 5.3MB/s eta 0:00:01\r\u001b[K     |█████████████████████▊          | 81kB 5.5MB/s eta 0:00:01\r\u001b[K     |████████████████████████▌       | 92kB 5.5MB/s eta 0:00:01\r\u001b[K     |███████████████████████████▏    | 102kB 4.3MB/s eta 0:00:01\r\u001b[K     |██████████████████████████████  | 112kB 4.3MB/s eta 0:00:01\r\u001b[K     |████████████████████████████████| 122kB 4.3MB/s \n",
            "\u001b[?25hRequirement already satisfied: protobuf>=3.8.0 in /usr/local/lib/python3.7/dist-packages (from tensorboardX) (3.12.4)\n",
            "Requirement already satisfied: numpy in /usr/local/lib/python3.7/dist-packages (from tensorboardX) (1.19.5)\n",
            "Requirement already satisfied: setuptools in /usr/local/lib/python3.7/dist-packages (from protobuf>=3.8.0->tensorboardX) (54.2.0)\n",
            "Requirement already satisfied: six>=1.9 in /usr/local/lib/python3.7/dist-packages (from protobuf>=3.8.0->tensorboardX) (1.15.0)\n",
            "Installing collected packages: tensorboardX\n",
            "Successfully installed tensorboardX-2.2\n",
            "time: 2.72 s (started: 2021-04-20 07:41:01 +00:00)\n"
          ],
          "name": "stdout"
        }
      ]
    },
    {
      "cell_type": "code",
      "metadata": {
        "colab": {
          "base_uri": "https://localhost:8080/"
        },
        "id": "E9jk3wisUCvH",
        "outputId": "e3f0fa08-e2a0-475b-9040-d076c1f725b8"
      },
      "source": [
        "# Imports\n",
        "from   functools import partial\n",
        "from   google.colab import drive\n",
        "import matplotlib.pyplot as plt\n",
        "import numpy as np\n",
        "import os\n",
        "import pandas as pd\n",
        "from   ray import tune\n",
        "from   ray.tune import CLIReporter\n",
        "from   ray.tune.schedulers import ASHAScheduler\n",
        "from   sklearn.model_selection import train_test_split\n",
        "import sys\n",
        "import torch\n",
        "import torch.nn as nn\n",
        "from   torch.utils import data"
      ],
      "execution_count": null,
      "outputs": [
        {
          "output_type": "stream",
          "text": [
            "time: 2.75 s (started: 2021-04-20 07:41:06 +00:00)\n"
          ],
          "name": "stdout"
        }
      ]
    },
    {
      "cell_type": "code",
      "metadata": {
        "colab": {
          "base_uri": "https://localhost:8080/"
        },
        "id": "-MASdYMRWMn0",
        "outputId": "2274d231-4f43-4d71-cb83-58a0e1cbbcb6"
      },
      "source": [
        "# Plots\n",
        "# https://matplotlib.org/stable/gallery/style_sheets/style_sheets_reference.html\n",
        "%matplotlib inline\n",
        "plt.style.use('seaborn-darkgrid')"
      ],
      "execution_count": null,
      "outputs": [
        {
          "output_type": "stream",
          "text": [
            "time: 3.98 ms (started: 2021-04-20 07:41:11 +00:00)\n"
          ],
          "name": "stdout"
        }
      ]
    },
    {
      "cell_type": "code",
      "metadata": {
        "colab": {
          "base_uri": "https://localhost:8080/"
        },
        "id": "q15T44OD8l9l",
        "outputId": "93618d40-afb4-4510-d07b-68114eb42c22"
      },
      "source": [
        "# Google Drive\n",
        "drive.mount('/content/gdrive', force_remount=True)\n",
        "sys.path.append('/content/gdrive/MyDrive/Uni/Year 3/ECS635U Project/')"
      ],
      "execution_count": 28,
      "outputs": [
        {
          "output_type": "stream",
          "text": [
            "Mounted at /content/gdrive\n",
            "time: 662 ms (started: 2021-04-20 21:42:47 +00:00)\n"
          ],
          "name": "stdout"
        }
      ]
    },
    {
      "cell_type": "markdown",
      "metadata": {
        "id": "V3gP0o0dq7fJ"
      },
      "source": [
        "# Data"
      ]
    },
    {
      "cell_type": "code",
      "metadata": {
        "colab": {
          "base_uri": "https://localhost:8080/"
        },
        "id": "Yct9fNR1KpPs",
        "outputId": "21f2a0e6-eb49-4b6f-8eb9-0a5bea6768b9"
      },
      "source": [
        "def load_data(datapoints='max', random_state=None):\n",
        "    \"\"\"\n",
        "    Load examples from a csv file and create a training and testing dataset using\n",
        "    a standard 80/20 split.\n",
        "\n",
        "    Parameters\n",
        "    ----------\n",
        "    datapoints : int or str, default='max'\n",
        "        Number of examples to load from the csv.\n",
        "    random_state : int or None, default=None\n",
        "        Controls the shuffling of data before being split. Pass a specific int\n",
        "        for a reproducible split.\n",
        "\n",
        "    Returns\n",
        "    -------\n",
        "    train_dataset : TensorDataset\n",
        "        Dataset containing 80% of randomly selected examples from the csv.\n",
        "    test_dataset : TensorDataset\n",
        "        Dataset containing the remaining 20% of examples.\n",
        "    \"\"\"\n",
        "\n",
        "    # Get data as dataframe\n",
        "    df = pd.read_csv('/content/gdrive/MyDrive/Uni/Year 3/ECS635U Project/model_input_duolingo_subset.csv')\n",
        "    max_datapoints = len(df)\n",
        "\n",
        "    # Optionally use a subset of data\n",
        "    if datapoints != 'max':\n",
        "        assert datapoints <= max_datapoints, f'max datapoints is {max_datapoints}'\n",
        "        df = df[:datapoints]\n",
        "    \n",
        "    # Separate features and labels\n",
        "    df_x = df.drop('p_trans', axis=1)\n",
        "    df_y = df['p_trans'].to_frame()\n",
        "\n",
        "    # Create feature and label tensors\n",
        "    x = torch.tensor(df_x.values, dtype=torch.float32)\n",
        "    y = torch.tensor(df_y.values, dtype=torch.float32)\n",
        "\n",
        "    # Split data into testing and training sets\n",
        "    X_train, X_test, y_train, y_test = train_test_split(\n",
        "        x, y,\n",
        "        test_size=0.2,\n",
        "        random_state=random_state)\n",
        "\n",
        "    # Create datasets\n",
        "    train_dataset = data.TensorDataset(X_train, y_train)\n",
        "    test_dataset = data.TensorDataset(X_test, y_test)\n",
        "\n",
        "    return train_dataset, test_dataset"
      ],
      "execution_count": 29,
      "outputs": [
        {
          "output_type": "stream",
          "text": [
            "time: 12.9 ms (started: 2021-04-20 21:43:18 +00:00)\n"
          ],
          "name": "stdout"
        }
      ]
    },
    {
      "cell_type": "markdown",
      "metadata": {
        "id": "LDU2Rg7k1Vas"
      },
      "source": [
        "# Model"
      ]
    },
    {
      "cell_type": "code",
      "metadata": {
        "colab": {
          "base_uri": "https://localhost:8080/"
        },
        "id": "oyfUmFnL7O_j",
        "outputId": "f9ea4c4d-73f5-499c-cac9-a70990dacecc"
      },
      "source": [
        "def init_weights(m):\n",
        "    \"\"\"Apply to a created model to initialise the weights and bias.\"\"\"\n",
        "    if type(m) == nn.Linear:\n",
        "        torch.nn.init.kaiming_normal_(m.weight, nonlinearity='relu')\n",
        "        torch.nn.init.zeros_(m.bias)"
      ],
      "execution_count": null,
      "outputs": [
        {
          "output_type": "stream",
          "text": [
            "time: 1.64 ms (started: 2021-04-20 07:42:02 +00:00)\n"
          ],
          "name": "stdout"
        }
      ]
    },
    {
      "cell_type": "code",
      "metadata": {
        "colab": {
          "base_uri": "https://localhost:8080/"
        },
        "id": "3r2o_qowPjqb",
        "outputId": "81043b6f-09c2-4149-9d9c-bff457dc5a84"
      },
      "source": [
        "class LangyBlock(nn.Module):\n",
        "    \"\"\"\n",
        "    A block for a LangyNet model consisting of:\n",
        "    - linear hidden layer\n",
        "    - rectified linear activation function\n",
        "    - dropout layer.\n",
        "\n",
        "    Initialisation Parameters\n",
        "    -------------------------\n",
        "    id : int\n",
        "        Block identification number.\n",
        "    input_nodes : int\n",
        "        Input size for the hidden layer.\n",
        "    output_nodes : int\n",
        "        Output size for the hidden layer i.e. number of hidden nodes.\n",
        "    p_dropout : float, default=0\n",
        "        Probability of a hidden layer node to be zeroed.\n",
        "\n",
        "    Forward Parameters\n",
        "    ------------------\n",
        "    x : Tensor\n",
        "        Size([batch_size, input_nodes])\n",
        "\n",
        "    Returns\n",
        "    -------\n",
        "    x : Tensor\n",
        "        Size([batch_size, output_nodes])\n",
        "\n",
        "    \"\"\"\n",
        "\n",
        "    def __init__(self, id, input_nodes, output_nodes, p_dropout=0):\n",
        "        super(LangyBlock, self).__init__()\n",
        "        self.id = id\n",
        "        self.input_nodes = input_nodes\n",
        "        self.output_nodes = output_nodes\n",
        "        self.p_dropout = p_dropout\n",
        "\n",
        "        self.add_module(\n",
        "            f'hid{self.id}',\n",
        "            nn.Linear(self.input_nodes, self.output_nodes))\n",
        "        self.add_module(\n",
        "            f'act{self.id}',\n",
        "            nn.ReLU())\n",
        "        self.add_module(\n",
        "            f'drop{self.id}',\n",
        "            nn.Dropout(self.p_dropout))\n",
        "\n",
        "    def forward(self, x):\n",
        "        x = self._modules[f'hid{self.id}'](x)\n",
        "        x = self._modules[f'act{self.id}'](x)\n",
        "        x = self._modules[f'drop{self.id}'](x)\n",
        "        return x"
      ],
      "execution_count": null,
      "outputs": [
        {
          "output_type": "stream",
          "text": [
            "time: 11.6 ms (started: 2021-04-20 07:42:03 +00:00)\n"
          ],
          "name": "stdout"
        }
      ]
    },
    {
      "cell_type": "code",
      "metadata": {
        "colab": {
          "base_uri": "https://localhost:8080/"
        },
        "id": "oVK0ilDA1XLI",
        "outputId": "9b8f999f-8f06-4133-8d56-d54b6397f893"
      },
      "source": [
        "class LangyNet(nn.Module):\n",
        "    \"\"\"\n",
        "    A Multilayer Perceptron with a configurable number of hidden layers.\n",
        "\n",
        "    Takes a Tensor of learning traces and produces a prediction for the\n",
        "    probability that the represented foreign word can be correctly translated.\n",
        "\n",
        "    Initialisation Parameters\n",
        "    -------------------------\n",
        "    hidden_layers : int\n",
        "        Number of hidden layers i.e. LangyBlocks to use.\n",
        "    hidden_nodes : int\n",
        "        Number of nodes to use in hidden layers.\n",
        "    p_dropout : float, default=0\n",
        "        Probability of a hidden layer node to be zeroed.\n",
        "\n",
        "    Forward Parameters\n",
        "    ------------------\n",
        "    x : Tensor\n",
        "        Tensor of learning traces, Size([batch_size, 10])\n",
        "\n",
        "    Returns\n",
        "    -------\n",
        "    p_trans : Tensor\n",
        "        Probability of correct translation, Size([batch_size, 1])\n",
        "    \"\"\"\n",
        "\n",
        "    def __init__(self, hidden_layers, hidden_nodes, p_dropout=0):\n",
        "        super(LangyNet, self).__init__()\n",
        "        self.input_features = 10  # delta, seen, ..., frn_4\n",
        "        self.output_features = 1  # p_trans\n",
        "        self.hidden_layers = hidden_layers\n",
        "        self.hidden_nodes = hidden_nodes\n",
        "        self.p_dropout = p_dropout\n",
        "\n",
        "        # Add hidden layers\n",
        "        for i in range(hidden_layers):\n",
        "            if i == 0:\n",
        "                # First hidden layer\n",
        "                self.add_module(\n",
        "                    f'langy_block_{i+1}',\n",
        "                    LangyBlock(i+1, self.input_features, self.hidden_nodes, self.p_dropout))\n",
        "            else:\n",
        "                # Additional hidden layers\n",
        "                self.add_module(\n",
        "                    f'langy_block_{i+1}',\n",
        "                    LangyBlock(i+1, self.hidden_nodes, self.hidden_nodes, self.p_dropout))\n",
        "            \n",
        "        # Output layer\n",
        "        self.output = nn.Linear(self.hidden_nodes, self.output_features)\n",
        "        \n",
        "\n",
        "    def forward(self, x):\n",
        "        for i in range(self.hidden_layers):\n",
        "            x = self._modules[f'langy_block_{i+1}'](x)\n",
        "        x = self.output(x)\n",
        "        return x"
      ],
      "execution_count": null,
      "outputs": [
        {
          "output_type": "stream",
          "text": [
            "time: 13.6 ms (started: 2021-04-20 07:42:05 +00:00)\n"
          ],
          "name": "stdout"
        }
      ]
    },
    {
      "cell_type": "code",
      "metadata": {
        "colab": {
          "base_uri": "https://localhost:8080/"
        },
        "id": "7nNgFaClHc1E",
        "outputId": "614f765a-7d46-40d2-f215-02e699920c3a"
      },
      "source": [
        "# Example model initialisation\n",
        "LangyNet(3, 64)"
      ],
      "execution_count": null,
      "outputs": [
        {
          "output_type": "execute_result",
          "data": {
            "text/plain": [
              "LangyNet(\n",
              "  (langy_block_1): LangyBlock(\n",
              "    (hid1): Linear(in_features=10, out_features=64, bias=True)\n",
              "    (act1): ReLU()\n",
              "    (drop1): Dropout(p=0, inplace=False)\n",
              "  )\n",
              "  (langy_block_2): LangyBlock(\n",
              "    (hid2): Linear(in_features=64, out_features=64, bias=True)\n",
              "    (act2): ReLU()\n",
              "    (drop2): Dropout(p=0, inplace=False)\n",
              "  )\n",
              "  (langy_block_3): LangyBlock(\n",
              "    (hid3): Linear(in_features=64, out_features=64, bias=True)\n",
              "    (act3): ReLU()\n",
              "    (drop3): Dropout(p=0, inplace=False)\n",
              "  )\n",
              "  (output): Linear(in_features=64, out_features=1, bias=True)\n",
              ")"
            ]
          },
          "metadata": {
            "tags": []
          },
          "execution_count": 13
        },
        {
          "output_type": "stream",
          "text": [
            "time: 35 ms (started: 2021-04-20 07:42:08 +00:00)\n"
          ],
          "name": "stdout"
        }
      ]
    },
    {
      "cell_type": "markdown",
      "metadata": {
        "id": "O6nyaTcJZ0Mm"
      },
      "source": [
        "# Training Functions"
      ]
    },
    {
      "cell_type": "markdown",
      "metadata": {
        "id": "EE3bkWOebRen"
      },
      "source": [
        "The functions `train` and `tuning` use a dictionary of hyperparameters, `config`, which must include the following:\n",
        "\n",
        "1. `hidden_layers`: number of hidden layers to use\n",
        "1. `hidden_nodes`: number of nodes to use in hidden layers\n",
        "1. `p_dropout`: probability of a hidden layer node to be zeroed\n",
        "1. `weight_decay`: penalty to apply to model weights\n",
        "1. `learning_rate`: rate at which model weights are adjusted\n",
        "1. `batch_size`: number of examples per batch\n",
        "1. `epochs`: number of cycles through the full datasets\n",
        "\n",
        "Below is an example of what a configuration may look like:\n",
        "\n",
        "```\n",
        "config = {\n",
        "    'hidden_layers': 1,\n",
        "    'hidden_nodes': 32,\n",
        "    'p_dropout': 0,\n",
        "    'weight_decay': 0,\n",
        "    'learning_rate': 0.01,\n",
        "    'batch_size': 64,\n",
        "    'epochs': 200,\n",
        "}\n",
        "```\n",
        "\n",
        "`train` will use `config` and train a single model with specific values for each hyperparameter.\n",
        "\n",
        "`tuning` will use `config` and perform distributed model training with a range of values for each hyperparameter to find an optimal combination."
      ]
    },
    {
      "cell_type": "code",
      "metadata": {
        "colab": {
          "base_uri": "https://localhost:8080/"
        },
        "id": "NRGTjWMiVorq",
        "outputId": "33307bc0-edd2-4c9d-b8b5-b86b27808172"
      },
      "source": [
        "# https://d2l.ai/chapter_linear-networks/softmax-regression-scratch.html#classification-accuracy\n",
        "\n",
        "class Accumulator:\n",
        "    \"\"\"For accumulating sums over `n` variables.\"\"\"\n",
        "    \n",
        "    def __init__(self, n):\n",
        "        self.data = [0.0] * n\n",
        "\n",
        "    def add(self, *args):\n",
        "        self.data = [a + float(b) for a, b in zip(self.data, args)]\n",
        "\n",
        "    def reset(self):\n",
        "        self.data = [0.0] * len(self.data)\n",
        "\n",
        "    def __getitem__(self, idx):\n",
        "        return self.data[idx]"
      ],
      "execution_count": null,
      "outputs": [
        {
          "output_type": "stream",
          "text": [
            "time: 6.37 ms (started: 2021-04-20 07:42:14 +00:00)\n"
          ],
          "name": "stdout"
        }
      ]
    },
    {
      "cell_type": "code",
      "metadata": {
        "colab": {
          "base_uri": "https://localhost:8080/"
        },
        "id": "Cusr8eNIHYaC",
        "outputId": "1e3e522c-2ac6-40e7-e0f1-503fcf5fde98"
      },
      "source": [
        "def train_epoch(model, device, train_loader, loss_fn, optimiser):\n",
        "    \"\"\"\n",
        "    Trains a model for a single epoch.\n",
        "\n",
        "    Parameters\n",
        "    ----------\n",
        "    model : LangyNet\n",
        "        The model to train.\n",
        "    device : str\n",
        "        For CPU/GPU processing, either 'cpu' or 'cuda:0'\n",
        "    train_loader : DataLoader\n",
        "        DataLoader which supplies examples from the training subset.\n",
        "    loss_fn : torch.nn Loss Function\n",
        "        Loss function to measure error between predictions and ground truth.\n",
        "    optimiser : torch.optim.Optimizer\n",
        "        Optimiser to update model parameters.\n",
        "    \n",
        "    Returns\n",
        "    -------\n",
        "    epoch_loss : float\n",
        "        Loss of the model on training data after a single epoch.\n",
        "    \"\"\"\n",
        "\n",
        "    if isinstance(model, torch.nn.Module):\n",
        "        model.train()  # training mode\n",
        "\n",
        "    metric = Accumulator(2)  # accumulate statistics over batches\n",
        "\n",
        "    for X, y in train_loader:\n",
        "        # CPU/GPU processing\n",
        "        X, y = X.to(device), y.to(device)\n",
        "\n",
        "        # Forward and backward pass\n",
        "        optimiser.zero_grad()     # reset old gradients\n",
        "        y_hat = model(X)          # compute prediction\n",
        "        loss = loss_fn(y_hat, y)  # calculate loss\n",
        "        loss.backward()           # calculate new gradients\n",
        "        optimiser.step()          # update parameters\n",
        "\n",
        "        # Statistics\n",
        "        metric.add(\n",
        "            float(loss.sum()),    # sum of training loss\n",
        "            y.numel())            # number of examples\n",
        "\n",
        "    return metric[0] / metric[1]  # training loss for epoch"
      ],
      "execution_count": null,
      "outputs": [
        {
          "output_type": "stream",
          "text": [
            "time: 15.7 ms (started: 2021-04-20 07:42:15 +00:00)\n"
          ],
          "name": "stdout"
        }
      ]
    },
    {
      "cell_type": "code",
      "metadata": {
        "colab": {
          "base_uri": "https://localhost:8080/"
        },
        "id": "vRxPnYfJBzB0",
        "outputId": "7947637e-22a9-4fec-b2ed-f3064af34954"
      },
      "source": [
        "def val_epoch(model, device, val_loader, loss_fn):\n",
        "    \"\"\"\n",
        "    Performs model validation for a single epoch.\n",
        "\n",
        "    Parameters\n",
        "    ----------\n",
        "    model : LangyNet\n",
        "        The model to train.\n",
        "    device : str\n",
        "        For CPU/GPU processing, either 'cpu' or 'cuda:0'\n",
        "    val_loader : DataLoader\n",
        "        DataLoader which supplies examples from the validation subset.\n",
        "    loss_fn : torch.nn Loss Function\n",
        "        Loss function to measure error between predictions and ground truth.\n",
        "    \n",
        "    Returns\n",
        "    -------\n",
        "    val_loss : float\n",
        "        Loss of the model on validation data after a single epoch.\n",
        "    \"\"\"\n",
        "\n",
        "    if isinstance(model, torch.nn.Module):\n",
        "        model.eval()  # evaluation mode\n",
        "\n",
        "    metric = Accumulator(2)  # accumulate statistics over batches\n",
        "\n",
        "    for X, y in val_loader:\n",
        "        with torch.no_grad():\n",
        "            # CPU/GPU processing\n",
        "            X, y = X.to(device), y.to(device)\n",
        "\n",
        "            # Computations\n",
        "            y_hat = model(X)          # compute prediction\n",
        "            loss = loss_fn(y_hat, y)  # calculate loss\n",
        "\n",
        "            # Statistics\n",
        "            metric.add(\n",
        "                loss.cpu().numpy(),   # validation loss\n",
        "                1)                    # validation steps\n",
        "    \n",
        "    return metric[0] / metric[1]"
      ],
      "execution_count": null,
      "outputs": [
        {
          "output_type": "stream",
          "text": [
            "time: 11.6 ms (started: 2021-04-20 07:42:16 +00:00)\n"
          ],
          "name": "stdout"
        }
      ]
    },
    {
      "cell_type": "markdown",
      "metadata": {
        "id": "opbHbw19g884"
      },
      "source": [
        "The main training function `train` makes use of both `train_epoch` and `val_epoch`.\n",
        "\n",
        "It involves continually cycling the model between training and evaluation mode to produce a trained model."
      ]
    },
    {
      "cell_type": "code",
      "metadata": {
        "colab": {
          "base_uri": "https://localhost:8080/"
        },
        "id": "liWXiHFxbR9h",
        "outputId": "b44002ac-e24c-47b2-95bc-9cad9027cb51"
      },
      "source": [
        "def train(config, datapoints='max', random_state=None, verbose=True, tuning=False, checkpoint_dir=None):\n",
        "    \"\"\"\n",
        "    Create, train and validate a model over epochs.\n",
        "\n",
        "    Parameters\n",
        "    ----------\n",
        "    config : dictionary\n",
        "        Hyperparameters each with a single value to train with.\n",
        "    datapoints : int or str, default='max'\n",
        "        Number of examples to train with from the data csv file.\n",
        "    random_state : int or None, default=None\n",
        "        Controls the shuffling of data before being split for training and\n",
        "        testing. Pass a specific int for a reproducible split.\n",
        "    verbose : bool, default=True\n",
        "        Control whether to print config, model and loss while training.\n",
        "    tuning : bool, default=False\n",
        "        Control whether to use ray for hyperparameter tuning.\n",
        "    checkpoint_dir : str, default=None\n",
        "        Directory path to be used for checkpointing when hyperparameter tuning.\n",
        "    \n",
        "    Returns\n",
        "    -------\n",
        "    model : LangyNet\n",
        "        The trained model.\n",
        "    history : dict of list of float\n",
        "        History of training and validation loss.\n",
        "    test_dataset : TensorDataset\n",
        "        Data unseen by the trained model to be used for testing.\n",
        "    \"\"\"\n",
        "\n",
        "    # Initialise model\n",
        "    model = LangyNet(\n",
        "        config['hidden_layers'],\n",
        "        config['hidden_nodes'],\n",
        "        config['p_dropout'])\n",
        "    model.apply(init_weights)\n",
        "    if verbose:\n",
        "        print('config:', config)\n",
        "        print(model)\n",
        "\n",
        "    # CPU/GPU processing\n",
        "    device = 'cpu'\n",
        "    if torch.cuda.is_available():\n",
        "        device = 'cuda:0'\n",
        "        if torch.cuda.device_count() > 1:\n",
        "            model = nn.DataParallel(model)\n",
        "    model.to(device)\n",
        "\n",
        "    # Split dataset for training and validation\n",
        "    train_dataset, test_dataset = load_data(datapoints)\n",
        "    train_size = int(len(train_dataset) * 0.8)  # 80%\n",
        "    val_size = len(train_dataset) - train_size  # 20%\n",
        "    train_subset, val_subset = data.random_split(\n",
        "        train_dataset, [train_size, val_size])\n",
        "    \n",
        "    # Dataloaders\n",
        "    train_loader = data.DataLoader(\n",
        "        train_subset, config['batch_size'], shuffle=True)\n",
        "    val_loader = data.DataLoader(\n",
        "        val_subset, config['batch_size'], shuffle=True)\n",
        "\n",
        "    # Loss and optimisation\n",
        "    loss_fn = nn.MSELoss()\n",
        "    optimiser = torch.optim.Adam(\n",
        "        model.parameters(),\n",
        "        weight_decay=config['weight_decay'],\n",
        "        lr=config['learning_rate'])\n",
        "\n",
        "    # Hyperparameter tuning\n",
        "    if checkpoint_dir:\n",
        "        model_state, optimiser_state = torch.load(\n",
        "            os.path.join(checkpoint_dir, 'checkpoint'))\n",
        "        model.load_state_dict(model_state)\n",
        "        optimiser.load_state_dict(optimiser_state)\n",
        "\n",
        "    # Track loss history for plotting\n",
        "    history = {\n",
        "        'train_loss': [],\n",
        "        'val_loss': []\n",
        "    }\n",
        "\n",
        "    # Loop over dataset\n",
        "    for epoch in range(config['epochs']):\n",
        "        # Train and validate model\n",
        "        train_loss = train_epoch(model, device, train_loader, loss_fn, optimiser)\n",
        "        val_loss = val_epoch(model, device, val_loader, loss_fn)\n",
        "\n",
        "        # Track statistics\n",
        "        history['train_loss'].append(train_loss)\n",
        "        history['val_loss'].append(val_loss)\n",
        "\n",
        "        # Display losses\n",
        "        if verbose and (epoch == 0 or (epoch + 1) % 10 == 0):\n",
        "            print(f'ep {(epoch + 1)  :<3} ',\n",
        "                f'train_loss={train_loss:.8f} ',\n",
        "                f'val_loss={val_loss:.8f}')\n",
        "        \n",
        "        # Hyperparameter tuning\n",
        "        if tuning:\n",
        "            with tune.checkpoint_dir(epoch) as checkpoint_dir:\n",
        "                path = os.path.join(checkpoint_dir, 'checkpoint')\n",
        "                torch.save((model.state_dict(), optimiser.state_dict()), path)\n",
        "            tune.report(loss=val_loss)\n",
        "    \n",
        "    return model, history, test_dataset"
      ],
      "execution_count": null,
      "outputs": [
        {
          "output_type": "stream",
          "text": [
            "time: 63.3 ms (started: 2021-04-20 07:42:19 +00:00)\n"
          ],
          "name": "stdout"
        }
      ]
    },
    {
      "cell_type": "markdown",
      "metadata": {
        "id": "MFbfUW0uujPa"
      },
      "source": [
        "# Optimisation"
      ]
    },
    {
      "cell_type": "markdown",
      "metadata": {
        "id": "CD75M9_LCFpi"
      },
      "source": [
        "Using Ray Tune ([Tutorial](https://pytorch.org/tutorials/beginner/hyperparameter_tuning_tutorial.html), [Documentation](https://docs.ray.io/en/latest/tune/index.html)) to perform distributed training to explore the effects of different combinations of hyperparameters, then find an optimal configuration for initialising and training a LangyNet.\n",
        "\n",
        "Tuning is performed with `datapoints='max'` (default `load_data` parameter), so each model will \"see\" the **entire** training dataset. Returned models are therefore optimised for the whole dataset.\n",
        "\n",
        "Data is loaded with `random_state=1` for a reproducible train/test split, so that the returned model may be tested on unseen data by using the same `random_state`."
      ]
    },
    {
      "cell_type": "markdown",
      "metadata": {
        "id": "2Mp1SKQsUDps"
      },
      "source": [
        "## Tuning Function"
      ]
    },
    {
      "cell_type": "code",
      "metadata": {
        "colab": {
          "base_uri": "https://localhost:8080/"
        },
        "id": "g02oHpWWXiu3",
        "outputId": "6867e738-ee2e-4952-f13c-6f934bff6634"
      },
      "source": [
        "def tuning(config, num_samples=10, max_num_epochs=10, gpus_per_trial=1):\n",
        "    \"\"\"\n",
        "    Perform distributed model training with a configured range of values for \n",
        "    each hyperparameter in order to find an optimal combination for the lowest \n",
        "    validation loss.\n",
        "\n",
        "    Parameters\n",
        "    ----------\n",
        "    config : dictionary\n",
        "        Hyperparameter search space to tune for.\n",
        "    num_samples : int, default=10\n",
        "        Number of times to sample from the search space. For example, for a grid\n",
        "        search, num_samples=3 means every possible hyperparameter combination is\n",
        "        trialed 3 times.\n",
        "    max_num_epochs : int, default=10\n",
        "        Maximum time units per tuning trial.\n",
        "    gpus_per_trial : int, default=1\n",
        "        Number of GPUs to use per tuning trial.\n",
        "    \n",
        "    Returns\n",
        "    -------\n",
        "    best_trained_model : LangyNet\n",
        "        A trained and optimised LangyNet model.\n",
        "\n",
        "    \"\"\"\n",
        "\n",
        "    load_data(random_state=1)\n",
        "\n",
        "    # Tuning details\n",
        "    scheduler = ASHAScheduler(\n",
        "        metric='loss',\n",
        "        mode='min',\n",
        "        max_t=max_num_epochs,\n",
        "        grace_period=1,\n",
        "        reduction_factor=2)\n",
        "    reporter = CLIReporter(\n",
        "        metric_columns=['loss', 'training_iteration'])\n",
        "    \n",
        "    # Perform tuning\n",
        "    result = tune.run(\n",
        "        partial(train, random_state=1, verbose=False, tuning=True),\n",
        "        resources_per_trial={'cpu': 2, 'gpu': gpus_per_trial},\n",
        "        config=config,\n",
        "        num_samples=num_samples,\n",
        "        scheduler=scheduler,\n",
        "        progress_reporter=reporter)\n",
        "\n",
        "    # Display optimal configuration\n",
        "    best_trial = result.get_best_trial('loss', 'min', 'last')\n",
        "    print(f'Best trial config: {best_trial.config}')\n",
        "    print(f'Best trial final validation loss: {best_trial.last_result[\"loss\"]}')\n",
        "\n",
        "    # Create a model to return with the best config found\n",
        "    best_trained_model = LangyNet(\n",
        "        best_trial.config['hidden_layers'],\n",
        "        best_trial.config['hidden_nodes'],\n",
        "        best_trial.config['p_dropout'])\n",
        "    best_trained_model.apply(init_weights)\n",
        "    device = 'cpu'\n",
        "    if torch.cuda.is_available():\n",
        "        device = 'cuda:0'\n",
        "        if gpus_per_trial > 1:\n",
        "            best_trained_model = nn.DataParallel(best_trained_model)\n",
        "    best_trained_model.to(device)\n",
        "\n",
        "    # Load state\n",
        "    best_checkpoint_dir = best_trial.checkpoint.value\n",
        "    model_state, optimiser_state = torch.load(os.path.join(\n",
        "        best_checkpoint_dir, 'checkpoint'))\n",
        "    best_trained_model.load_state_dict(model_state)\n",
        "\n",
        "    return best_trained_model"
      ],
      "execution_count": 45,
      "outputs": [
        {
          "output_type": "stream",
          "text": [
            "time: 26 ms (started: 2021-04-20 21:57:45 +00:00)\n"
          ],
          "name": "stdout"
        }
      ]
    },
    {
      "cell_type": "markdown",
      "metadata": {
        "id": "Q0S267NpEXhc"
      },
      "source": [
        "## Random Search"
      ]
    },
    {
      "cell_type": "markdown",
      "metadata": {
        "id": "gKK0gM-IacrM"
      },
      "source": [
        "Perform tuning with a broad search space, randomly selecting configured hyperparameter options for each tuning trial:\n",
        "\n",
        "- `tune.choice` will tune using a configured option at random.\n",
        "- `tune.grid_search` will exhaustively tune using each configured option.\n",
        "- `tune.qloguniform(1e-4, 1e-1, 5e-4)` is used for `learning_rate` to sample a float uniformly in log space between 0.0001 and 0.01, rounding to increments of 0.0001.\n",
        "\n",
        "Results will be used to determine appropriate hyperparameter options to use for a grid search.\n",
        "\n"
      ]
    },
    {
      "cell_type": "markdown",
      "metadata": {
        "id": "jWAQd-d-QJFq"
      },
      "source": [
        "### Perform Search"
      ]
    },
    {
      "cell_type": "code",
      "metadata": {
        "id": "YJwPabxDa5BJ"
      },
      "source": [
        "# Hyperparameter search space\n",
        "config = {\n",
        "    'hidden_nodes': tune.choice([8, 16, 32, 64]),\n",
        "    'hidden_layers': tune.grid_search([1, 2, 3]),\n",
        "    'p_dropout': tune.choice([0, 0.05, 0.1, 0.2]),\n",
        "    'weight_decay': tune.choice([0, 0.0001, 0.00025, 0.0005]),\n",
        "    'learning_rate': tune.qloguniform(1e-4, 1e-2, 1e-4),\n",
        "    'batch_size': tune.choice([32, 64, 128]),\n",
        "    'epochs': tune.choice([175, 200, 225, 250, 275, 300]),\n",
        "}\n",
        "\n",
        "# random_search_model = tuning(config, num_samples=20)"
      ],
      "execution_count": null,
      "outputs": []
    },
    {
      "cell_type": "markdown",
      "metadata": {
        "id": "TQBLk3eFEeck"
      },
      "source": [
        "### Best Results"
      ]
    },
    {
      "cell_type": "markdown",
      "metadata": {
        "id": "-3wmK-WkQgXY"
      },
      "source": [
        "Below shows the top 10/60 configurations from the random search, ordered by least validation loss to highest."
      ]
    },
    {
      "cell_type": "markdown",
      "metadata": {
        "id": "BwFD8nCEEmhu"
      },
      "source": [
        "```\n",
        "+---------------------+------------+-------+--------------+----------+-----------------+----------------+-----------------+-------------+----------------+-------------+----------------------+\n",
        "| Trial name          | status     | loc   |   batch_size |   epochs |   hidden_layers |   hidden_nodes |   learning_rate |   p_dropout |   weight_decay |        loss |   training_iteration |\n",
        "|---------------------+------------+-------+--------------+----------+-----------------+----------------+-----------------+-------------+----------------+-------------+----------------------|\n",
        "| DEFAULT_dfce7_00034 | TERMINATED |       |           64 |      275 |               2 |             32 |          0.0013 |        0    |        0       | 2.9526e-06  |                   10 |\n",
        "| DEFAULT_dfce7_00058 | TERMINATED |       |           32 |      200 |               2 |              8 |          0.0032 |        0    |        0       | 4.81833e-05 |                   10 |\n",
        "| DEFAULT_dfce7_00013 | TERMINATED |       |          128 |      175 |               2 |             64 |          0.0029 |        0    |        0.0001  | 5.33684e-05 |                   10 |\n",
        "| DEFAULT_dfce7_00024 | TERMINATED |       |           32 |      250 |               1 |             64 |          0.0007 |        0    |        0.0001  | 5.42742e-05 |                   10 |\n",
        "| DEFAULT_dfce7_00000 | TERMINATED |       |          128 |      275 |               1 |             64 |          0.0004 |        0.05 |        0.0001  | 5.46881e-05 |                   10 |\n",
        "| DEFAULT_dfce7_00043 | TERMINATED |       |           32 |      225 |               2 |             16 |          0.0004 |        0.1  |        0.0001  | 5.79774e-05 |                   10 |\n",
        "| DEFAULT_dfce7_00046 | TERMINATED |       |           32 |      175 |               2 |             64 |          0.0014 |        0.05 |        0.00025 | 0.000101574 |                    8 |\n",
        "| DEFAULT_dfce7_00027 | TERMINATED |       |           32 |      175 |               1 |              8 |          0.0046 |        0    |        0       | 0.000105559 |                    8 |\n",
        "| DEFAULT_dfce7_00022 | TERMINATED |       |           32 |      250 |               2 |              8 |          0.0034 |        0    |        0.00025 | 0.000118057 |                    8 |\n",
        "| DEFAULT_dfce7_00040 | TERMINATED |       |          128 |      225 |               2 |              8 |          0.0079 |        0    |        0.0001  | 0.000150925 |                   10 |\n",
        "+---------------------+------------+-------+--------------+----------+-----------------+----------------+-----------------+-------------+----------------+-------------+----------------------+\n",
        "\n",
        "```"
      ]
    },
    {
      "cell_type": "markdown",
      "metadata": {
        "id": "0kgaXq5nM-MR"
      },
      "source": [
        "### Results Analysis"
      ]
    },
    {
      "cell_type": "markdown",
      "metadata": {
        "id": "g-oEruIdNARk"
      },
      "source": [
        "\n",
        "- hidden_nodes\n",
        "    - Best configurations tended to use greater amounts\n",
        "    - The top two configurations used less than 64\n",
        "    - 64 was the most frequest option and was the largest option in the search space, so higher options should be included in the search\n",
        "- hidden_layers\n",
        "    - No configurations with 3 hidden layers\n",
        "    - 7/10 configurations with 2 hidden layers\n",
        "    - Theory: deeper networks perform better, so search should include both options\n",
        "- p_dropout\n",
        "    - 7/10 configurations did not drop any hidden nodes\n",
        "    - Others used the lower options\n",
        "- weight_decay\n",
        "    - No configurations using 0.0005\n",
        "    - 8/10 configurations used 0.0001 or 0, the lowest options\n",
        "- learning_rate\n",
        "    - The best 7/10 configurations had learning_rate <= 0.0032\n",
        "    - Theory:\n",
        "        - In general, high learning rate means faster convergence\n",
        "        - Too high means drastic updates and risks divergence or oscillation about the minimum loss\n",
        "        - Too low results in slow training, many updates to reach the minimum loss\n",
        "        - Sources: AI week 5 slides, https://www.jeremyjordan.me/nn-learning-rate/\n",
        "- batch_size\n",
        "    - No clear best option\n",
        "    - 6/10 configurations use 32, which was the smallest option\n",
        "    - Theory:\n",
        "        - In general, large batch size means training can complete faster\n",
        "        - Too large risks a model that cannot generalise well\n",
        "        - Too small means no guarantee of converging to a global optima for the whole dataset (though ray tune grid search helps by automating many trials for us)\n",
        "        - Source: https://medium.com/mini-distill/effect-of-batch-size-on-training-dynamics-21c14f7a716e\n",
        "        - Batch size 32 is common and small sizes generally work well\n",
        "        - Best results with 32 or smaller\n",
        "        - Source: https://machinelearningmastery.com/how-to-control-the-speed-and-stability-of-training-neural-networks-with-gradient-descent-batch-size/\n",
        "- epochs\n",
        "    - 6/10 configurations required 225 epochs or greater\n",
        "    - Choices of low learning rate may require more epochs of training"
      ]
    },
    {
      "cell_type": "markdown",
      "metadata": {
        "id": "UVz0NHomQUyI"
      },
      "source": [
        "## Grid Search"
      ]
    },
    {
      "cell_type": "markdown",
      "metadata": {
        "id": "vcAKDDsLch4_"
      },
      "source": [
        "Perform tuning with a specific search space, exhaustively trialing every possible combination of configured hyperparameters:\n",
        "\n",
        "- `tune.grid_search` will exhaustively tune using each configured option.\n",
        "- Other hyperparameters are given a single explicit option to use.\n",
        "\n",
        "The result will lead to a final optimal configuration and a trained LangyNet model.\n",
        "\n"
      ]
    },
    {
      "cell_type": "markdown",
      "metadata": {
        "id": "ihbLy5LLQMfV"
      },
      "source": [
        "### Perform Search"
      ]
    },
    {
      "cell_type": "code",
      "metadata": {
        "id": "TESFaNklgKo6"
      },
      "source": [
        "# Hyperparameter search space\n",
        "config = {\n",
        "    'hidden_nodes': tune.grid_search([32, 64, 80, 96]),\n",
        "    'hidden_layers': tune.grid_search([2, 3]),\n",
        "    'p_dropout': 0,\n",
        "    'weight_decay': tune.grid_search([0, 0.0001]),\n",
        "    'learning_rate': 0.001,\n",
        "    'batch_size': tune.grid_search([16, 32]),\n",
        "    'epochs': tune.grid_search([200, 250, 300]),\n",
        "}\n",
        "\n",
        "grid_search_model = tuning(config, num_samples=3)"
      ],
      "execution_count": null,
      "outputs": []
    },
    {
      "cell_type": "markdown",
      "metadata": {
        "id": "Qc7wQ6al52XB"
      },
      "source": [
        "### Save Model"
      ]
    },
    {
      "cell_type": "code",
      "metadata": {
        "id": "xVdxJSla55aZ",
        "colab": {
          "base_uri": "https://localhost:8080/"
        },
        "outputId": "39b9ef5a-1da3-4841-c398-830adb48c80e"
      },
      "source": [
        "torch.save(grid_search_model.state_dict(), '/content/gdrive/MyDrive/Uni/Year 3/ECS635U Project/model_state_dict')"
      ],
      "execution_count": null,
      "outputs": [
        {
          "output_type": "stream",
          "text": [
            "time: 727 ms (started: 2021-04-20 17:06:58 +00:00)\n"
          ],
          "name": "stdout"
        }
      ]
    },
    {
      "cell_type": "markdown",
      "metadata": {
        "id": "TmNSLPbs9chg"
      },
      "source": [
        "### Best Results"
      ]
    },
    {
      "cell_type": "markdown",
      "metadata": {
        "id": "ACP56kFG-qWU"
      },
      "source": [
        "Below shows the top 6/288 configurations from the grid search, ordered by least validation loss to highest.\n",
        "\n",
        "These are configurations which achieved a final validation loss of less than 1e-6 (0.000001)."
      ]
    },
    {
      "cell_type": "markdown",
      "metadata": {
        "id": "QWRCz7Bf-ks9"
      },
      "source": [
        "```\n",
        "+---------------------+------------+-------+--------------+----------+-----------------+----------------+----------------+-------------+----------------------+\n",
        "| Trial name          | status     | loc   |   batch_size |   epochs |   hidden_layers |   hidden_nodes |   weight_decay |        loss |   training_iteration |\n",
        "|---------------------+------------+-------+--------------+----------+-----------------+----------------+----------------+-------------+----------------------|\n",
        "| DEFAULT_0b8ef_00006 | TERMINATED |       |           16 |      200 |               3 |             32 |         0      | 2.00951e-07 |                   10 |\n",
        "| DEFAULT_0b8ef_00199 | TERMINATED |       |           32 |      200 |               3 |             32 |         0      | 3.76350e-07 |                   10 |\n",
        "| DEFAULT_0b8ef_00000 | TERMINATED |       |           16 |      200 |               2 |             32 |         0      | 4.11093e-07 |                   10 |\n",
        "| DEFAULT_0b8ef_00126 | TERMINATED |       |           16 |      200 |               3 |             80 |         0      | 6.75813e-07 |                   10 |\n",
        "| DEFAULT_0b8ef_00220 | TERMINATED |       |           16 |      300 |               2 |             80 |         0      | 7.23584e-07 |                   10 |\n",
        "| DEFAULT_0b8ef_00118 | TERMINATED |       |           16 |      300 |               3 |             64 |         0      | 9.47938e-07 |                   10 |\n",
        "+---------------------+------------+-------+--------------+----------+-----------------+----------------+----------------+-------------+----------------------+\n",
        "```"
      ]
    },
    {
      "cell_type": "markdown",
      "metadata": {
        "id": "prqoFYnGBgBj"
      },
      "source": [
        "### Optimal Configuration"
      ]
    },
    {
      "cell_type": "code",
      "metadata": {
        "colab": {
          "base_uri": "https://localhost:8080/"
        },
        "id": "wNpsr9pJVOId",
        "outputId": "80c9a906-c73c-48fe-a0be-f940e28424d0"
      },
      "source": [
        "optimal_config = {\n",
        "    'hidden_layers': 3,\n",
        "    'hidden_nodes': 32,\n",
        "    'p_dropout': 0,\n",
        "    'weight_decay': 0,\n",
        "    'learning_rate': 0.001,\n",
        "    'batch_size': 16,\n",
        "    'epochs': 200,\n",
        "}"
      ],
      "execution_count": null,
      "outputs": [
        {
          "output_type": "stream",
          "text": [
            "time: 3.2 ms (started: 2021-04-20 04:44:29 +00:00)\n"
          ],
          "name": "stdout"
        }
      ]
    },
    {
      "cell_type": "markdown",
      "metadata": {
        "id": "qCF-AK9SSBvb"
      },
      "source": [
        "![LangyNet Architecture](https://drive.google.com/uc?export=view&id=1Q9xAC0OddKB8VQXXh4oBmpj8x4nSZf1L)\n",
        "\n",
        "Diagram made with http://alexlenail.me/NN-SVG/index.html"
      ]
    },
    {
      "cell_type": "markdown",
      "metadata": {
        "id": "EKzwbEAvcMlJ"
      },
      "source": [
        "# Performance Comparison"
      ]
    },
    {
      "cell_type": "markdown",
      "metadata": {
        "id": "nJb1U_31FcTI"
      },
      "source": [
        "Train two LangyNet models:\n",
        "- `random_model`: single hidden layer, **random** configuration of hyperparameters\n",
        "- `optconf_model`: three hidden layers, **optimal** configuration found through grid search\n",
        "\n",
        "Each using:\n",
        "- a random subset of 20,000 examples from the dataset\n",
        "- 200 epochs of training\n",
        "\n",
        "to compare model performance and show how optimisation was effective."
      ]
    },
    {
      "cell_type": "markdown",
      "metadata": {
        "id": "rAFEiW7cV-O2"
      },
      "source": [
        "Note that:\n",
        "- A subset of examples are not necessarily representative of the complete dataset, which was used to train the optimal model.\n",
        "- The model being trained with the optimal configuration here is only for comparison purposes and will not be used further."
      ]
    },
    {
      "cell_type": "markdown",
      "metadata": {
        "id": "HXg-g91CRrgT"
      },
      "source": [
        "## Configurations"
      ]
    },
    {
      "cell_type": "code",
      "metadata": {
        "colab": {
          "base_uri": "https://localhost:8080/"
        },
        "id": "hoF4tqMzRphl",
        "outputId": "48ed6a69-ae8e-4dfe-dcf6-bf2725bce0a9"
      },
      "source": [
        "# Random configuration\n",
        "random_config = {\n",
        "    'hidden_layers': 1,\n",
        "    'hidden_nodes': 32,\n",
        "    'p_dropout': 0.05,\n",
        "    'weight_decay': 0.0001,\n",
        "    'learning_rate': 0.01,\n",
        "    'batch_size': 64,\n",
        "    'epochs': 200,\n",
        "}\n",
        "\n",
        "# Optimal configuration found through grid search\n",
        "optimal_config = {\n",
        "    'hidden_layers': 3,\n",
        "    'hidden_nodes': 32,\n",
        "    'p_dropout': 0,\n",
        "    'weight_decay': 0,\n",
        "    'learning_rate': 0.001,\n",
        "    'batch_size': 16,\n",
        "    'epochs': 200,\n",
        "}"
      ],
      "execution_count": null,
      "outputs": [
        {
          "output_type": "stream",
          "text": [
            "time: 4.42 ms (started: 2021-04-20 19:01:34 +00:00)\n"
          ],
          "name": "stdout"
        }
      ]
    },
    {
      "cell_type": "markdown",
      "metadata": {
        "id": "vaUpvWqcmoTq"
      },
      "source": [
        "## Perform Training"
      ]
    },
    {
      "cell_type": "code",
      "metadata": {
        "colab": {
          "base_uri": "https://localhost:8080/"
        },
        "id": "krUVs1csSUHY",
        "outputId": "97bb8b1e-3a4c-4ce5-e122-2add6f0cc565"
      },
      "source": [
        "random_model, random_history, random_testset = train(\n",
        "    random_config,\n",
        "    datapoints=20000)"
      ],
      "execution_count": null,
      "outputs": [
        {
          "output_type": "stream",
          "text": [
            "config: {'hidden_layers': 1, 'hidden_nodes': 32, 'p_dropout': 0.05, 'weight_decay': 0.0001, 'learning_rate': 0.01, 'batch_size': 64, 'epochs': 200}\n",
            "LangyNet(\n",
            "  (langy_block_1): LangyBlock(\n",
            "    (hid1): Linear(in_features=10, out_features=32, bias=True)\n",
            "    (act1): ReLU()\n",
            "    (drop1): Dropout(p=0.05, inplace=False)\n",
            "  )\n",
            "  (output): Linear(in_features=32, out_features=1, bias=True)\n",
            ")\n",
            "ep 1    train_loss=0.00231783  val_loss=0.01347345\n",
            "ep 10   train_loss=0.00001434  val_loss=0.00042354\n",
            "ep 20   train_loss=0.00001098  val_loss=0.00037446\n",
            "ep 30   train_loss=0.00000942  val_loss=0.00053020\n",
            "ep 40   train_loss=0.00001174  val_loss=0.00048398\n",
            "ep 50   train_loss=0.00001097  val_loss=0.00044753\n",
            "ep 60   train_loss=0.00001394  val_loss=0.00058228\n",
            "ep 70   train_loss=0.00001087  val_loss=0.00039356\n",
            "ep 80   train_loss=0.00001106  val_loss=0.00021385\n",
            "ep 90   train_loss=0.00001107  val_loss=0.00032398\n",
            "ep 100  train_loss=0.00001133  val_loss=0.00028709\n",
            "ep 110  train_loss=0.00001098  val_loss=0.00040352\n",
            "ep 120  train_loss=0.00001097  val_loss=0.00040137\n",
            "ep 130  train_loss=0.00001133  val_loss=0.00034794\n",
            "ep 140  train_loss=0.00001257  val_loss=0.00023425\n",
            "ep 150  train_loss=0.00001018  val_loss=0.00043665\n",
            "ep 160  train_loss=0.00001077  val_loss=0.00023300\n",
            "ep 170  train_loss=0.00001037  val_loss=0.00077611\n",
            "ep 180  train_loss=0.00001166  val_loss=0.00030213\n",
            "ep 190  train_loss=0.00001030  val_loss=0.00036801\n",
            "ep 200  train_loss=0.00001101  val_loss=0.00043999\n",
            "time: 1min 4s (started: 2021-04-20 03:44:41 +00:00)\n"
          ],
          "name": "stdout"
        }
      ]
    },
    {
      "cell_type": "code",
      "metadata": {
        "colab": {
          "base_uri": "https://localhost:8080/"
        },
        "id": "wOn1aTXUbcU8",
        "outputId": "11d23cb2-b184-4eac-f50d-5f8ae818170e"
      },
      "source": [
        "optconf_model, optconf_history, optconf_testset = train(\n",
        "    optimal_config,\n",
        "    datapoints=20000)"
      ],
      "execution_count": null,
      "outputs": [
        {
          "output_type": "stream",
          "text": [
            "config: {'hidden_layers': 3, 'hidden_nodes': 32, 'p_dropout': 0, 'weight_decay': 0, 'learning_rate': 0.001, 'batch_size': 16, 'epochs': 200}\n",
            "LangyNet(\n",
            "  (langy_block_1): LangyBlock(\n",
            "    (hid1): Linear(in_features=10, out_features=32, bias=True)\n",
            "    (act1): ReLU()\n",
            "    (drop1): Dropout(p=0, inplace=False)\n",
            "  )\n",
            "  (langy_block_2): LangyBlock(\n",
            "    (hid2): Linear(in_features=32, out_features=32, bias=True)\n",
            "    (act2): ReLU()\n",
            "    (drop2): Dropout(p=0, inplace=False)\n",
            "  )\n",
            "  (langy_block_3): LangyBlock(\n",
            "    (hid3): Linear(in_features=32, out_features=32, bias=True)\n",
            "    (act3): ReLU()\n",
            "    (drop3): Dropout(p=0, inplace=False)\n",
            "  )\n",
            "  (output): Linear(in_features=32, out_features=1, bias=True)\n",
            ")\n",
            "ep 1    train_loss=0.00687579  val_loss=0.02419142\n",
            "ep 10   train_loss=0.00009451  val_loss=0.00126879\n",
            "ep 20   train_loss=0.00001288  val_loss=0.00031784\n",
            "ep 30   train_loss=0.00000249  val_loss=0.00007171\n",
            "ep 40   train_loss=0.00000062  val_loss=0.00001757\n",
            "ep 50   train_loss=0.00000053  val_loss=0.00000326\n",
            "ep 60   train_loss=0.00000085  val_loss=0.00001082\n",
            "ep 70   train_loss=0.00000048  val_loss=0.00000256\n",
            "ep 80   train_loss=0.00000027  val_loss=0.00000921\n",
            "ep 90   train_loss=0.00000034  val_loss=0.00000187\n",
            "ep 100  train_loss=0.00000026  val_loss=0.00000438\n",
            "ep 110  train_loss=0.00000022  val_loss=0.00000184\n",
            "ep 120  train_loss=0.00000023  val_loss=0.00000082\n",
            "ep 130  train_loss=0.00000017  val_loss=0.00000057\n",
            "ep 140  train_loss=0.00000012  val_loss=0.00000201\n",
            "ep 150  train_loss=0.00000007  val_loss=0.00000179\n",
            "ep 160  train_loss=0.00000019  val_loss=0.00000156\n",
            "ep 170  train_loss=0.00000013  val_loss=0.00001670\n",
            "ep 180  train_loss=0.00000018  val_loss=0.00000066\n",
            "ep 190  train_loss=0.00000013  val_loss=0.00000135\n",
            "ep 200  train_loss=0.00000012  val_loss=0.00000187\n",
            "time: 5min 40s (started: 2021-04-20 19:01:42 +00:00)\n"
          ],
          "name": "stdout"
        }
      ]
    },
    {
      "cell_type": "markdown",
      "metadata": {
        "id": "_kZrL5D3msUe"
      },
      "source": [
        "## Plots of Loss"
      ]
    },
    {
      "cell_type": "markdown",
      "metadata": {
        "id": "Z3G8gSBIZtCj"
      },
      "source": [
        "**Spikes in validation loss** are expected and are a consequence of training with some form of stochastic or mini-batch gradient descent.\n",
        "\n",
        "Training is performed over epochs, each of which involves pass over the complete dataset. Here we train using mini-batches of data, with an epoch of training requiring several steps to process all mini-batches.\n",
        "\n",
        "Each step involves selecting a number of examples = batch_size, computing a prediction, calculating loss, then updating the model. A spike occurs when a model update increases the loss due to the particular examples seen, rather than decreasing it. The model cannot generalise as well for the examples in this mini-batch compared to those from the previous.\n",
        "\n",
        "Sources:\n",
        "- [Batch, Mini Batch & Stochastic Gradient Descent](https://towardsdatascience.com/batch-mini-batch-stochastic-gradient-descent-7a62ecba642a)\n",
        "- [Doubts regarding training loss, validation loss and number of epochs](https://forums.fast.ai/t/doubts-regarding-training-loss-validation-loss-and-number-of-epochs/60734/2)\n",
        "- [Explanation of Spikes in training loss vs. iterations with Adam Optimizer](https://stats.stackexchange.com/a/304150)\n",
        "- [Why does the loss/accuracy fluctuate during the training?](https://stats.stackexchange.com/a/384995)\n",
        "\n"
      ]
    },
    {
      "cell_type": "code",
      "metadata": {
        "colab": {
          "base_uri": "https://localhost:8080/",
          "height": 426
        },
        "id": "kuWqkv6oYE0D",
        "outputId": "2850f6a6-5c30-4a27-ad6f-36d126d73bcc"
      },
      "source": [
        "plt.figure(figsize=(8, 6))\n",
        "plt.title('Random Model: Loss over Epochs', fontsize=18)\n",
        "plt.plot(random_history['train_loss'], label='training')\n",
        "plt.plot(random_history['val_loss'], label='validation')\n",
        "plt.xlabel('epoch', fontsize=16)\n",
        "plt.ylabel('loss', fontsize=16)\n",
        "plt.ylim(0, 0.001)\n",
        "plt.legend(\n",
        "    title='loss',\n",
        "    title_fontsize=16,\n",
        "    fontsize=14,\n",
        "    loc='upper right')\n",
        "plt.show()"
      ],
      "execution_count": null,
      "outputs": [
        {
          "output_type": "display_data",
          "data": {
            "image/png": "[encoded data removed]",
            "text/plain": [
              "<Figure size 576x432 with 1 Axes>"
            ]
          },
          "metadata": {
            "tags": []
          }
        },
        {
          "output_type": "stream",
          "text": [
            "time: 161 ms (started: 2021-04-20 03:45:50 +00:00)\n"
          ],
          "name": "stdout"
        }
      ]
    },
    {
      "cell_type": "code",
      "metadata": {
        "colab": {
          "base_uri": "https://localhost:8080/",
          "height": 426
        },
        "id": "wDEkw348k-__",
        "outputId": "771f3da5-1d21-4a77-9833-47705192f535"
      },
      "source": [
        "plt.figure(figsize=(8, 6))\n",
        "plt.title('Optimal Model: Loss over Epochs', fontsize=18)\n",
        "plt.plot(optconf_history['train_loss'], label='training')\n",
        "plt.plot(optconf_history['val_loss'], label='validation')\n",
        "plt.xlabel('epoch', fontsize=16)\n",
        "plt.ylabel('loss', fontsize=16)\n",
        "plt.ylim(0, 0.001)\n",
        "plt.legend(\n",
        "    title='loss',\n",
        "    title_fontsize=16,\n",
        "    fontsize=14,\n",
        "    loc='upper right')\n",
        "plt.show()"
      ],
      "execution_count": null,
      "outputs": [
        {
          "output_type": "display_data",
          "data": {
            "image/png": "[encoded data removed]",
            "text/plain": [
              "<Figure size 576x432 with 1 Axes>"
            ]
          },
          "metadata": {
            "tags": []
          }
        },
        {
          "output_type": "stream",
          "text": [
            "time: 230 ms (started: 2021-04-20 19:07:28 +00:00)\n"
          ],
          "name": "stdout"
        }
      ]
    },
    {
      "cell_type": "markdown",
      "metadata": {
        "id": "cBWFm9-ik0Qi"
      },
      "source": [
        "# Testing"
      ]
    },
    {
      "cell_type": "markdown",
      "metadata": {
        "id": "ZF2rsP6FmdlF"
      },
      "source": [
        "## Testing Function"
      ]
    },
    {
      "cell_type": "code",
      "metadata": {
        "colab": {
          "base_uri": "https://localhost:8080/"
        },
        "id": "2XJjhRU_mieH",
        "outputId": "920c75c3-f5f4-4d2d-c54c-3aedc43fdc3f"
      },
      "source": [
        "def test(model, batch_size=128, verbose=True):\n",
        "    \"\"\"\n",
        "    Tests a model.\n",
        "\n",
        "    Parameters\n",
        "    ----------\n",
        "    model : LangyNet\n",
        "        The model to test.\n",
        "    batch_size : int, default=128\n",
        "        Number of examples per batch.\n",
        "    verbose : bool, default=True\n",
        "        Control whether to print loss while testing.\n",
        "    \n",
        "    Returns\n",
        "    -------\n",
        "    test_loss : list of float\n",
        "        History of testing loss.\n",
        "    min : float\n",
        "        Minimum testing loss of a single batch.\n",
        "    max : float\n",
        "        Maximum testing loss of a single batch.\n",
        "    avg : float\n",
        "        Average testing loss across all batches.\n",
        "    \"\"\"\n",
        "\n",
        "    if isinstance(model, torch.nn.Module):\n",
        "        model.eval()  # evaluation mode\n",
        "\n",
        "    # CPU/GPU processing\n",
        "    device = 'cpu'\n",
        "    if torch.cuda.is_available():\n",
        "        device = 'cuda:0'\n",
        "        if torch.cuda.device_count() > 1:\n",
        "            model = nn.DataParallel(model)\n",
        "    model.to(device)\n",
        "\n",
        "    # Ensure we test on unseen data\n",
        "    # random_state=1 used by tuning function to produce model\n",
        "    train_dataset, test_dataset = load_data(random_state=1)\n",
        "    test_loader = data.DataLoader(test_dataset, batch_size, shuffle=True)\n",
        "    if verbose:\n",
        "        print(f'Testing dataset contains {len(test_dataset)} examples.\\n'\n",
        "              f'Batch size set to {batch_size}.\\n')\n",
        "\n",
        "    # Calculate and track loss\n",
        "    loss_fn = nn.MSELoss()\n",
        "    test_loss = []\n",
        "    min, max = 0, 0\n",
        "\n",
        "    for batch, (X, y) in enumerate(test_loader):\n",
        "        with torch.no_grad():\n",
        "            # CPU/GPU processing\n",
        "            X, y = X.to(device), y.to(device)\n",
        "\n",
        "            # Computations\n",
        "            y_hat = model(X)          # compute prediction\n",
        "            loss = loss_fn(y_hat, y)  # calculate loss\n",
        "\n",
        "            # Track batch loss\n",
        "            # sum of testing loss / number of examples\n",
        "            batch_loss = float(loss.sum()) / y.numel()\n",
        "            test_loss.append(batch_loss)\n",
        "            if batch == 0:\n",
        "                min, max = batch_loss, batch_loss\n",
        "            else:\n",
        "                if batch_loss < min: min = batch_loss\n",
        "                if batch_loss > max: max = batch_loss\n",
        "\n",
        "            # Display loss\n",
        "            if verbose and (batch == 0 or (batch + 1) % 100 == 0):\n",
        "                print(f'batch {batch+1 :<4} ',\n",
        "                      f'test_loss={batch_loss:.11f}')\n",
        "\n",
        "    avg = sum(test_loss) / len(test_loss)\n",
        "    if verbose:\n",
        "        print('\\n\\n',\n",
        "              f'min={min:.11f} ({min})\\n',\n",
        "              f'max={max:.11f} ({max})\\n',\n",
        "              f'avg={avg:.11f} ({avg})\\n')\n",
        "\n",
        "    return test_loss, min, max, avg"
      ],
      "execution_count": null,
      "outputs": [
        {
          "output_type": "stream",
          "text": [
            "time: 36.1 ms (started: 2021-04-20 19:08:03 +00:00)\n"
          ],
          "name": "stdout"
        }
      ]
    },
    {
      "cell_type": "markdown",
      "metadata": {
        "id": "LCOhppjOmcNn"
      },
      "source": [
        "## Load Model"
      ]
    },
    {
      "cell_type": "code",
      "metadata": {
        "colab": {
          "base_uri": "https://localhost:8080/"
        },
        "id": "mFyvX9m2jwRY",
        "outputId": "89fd6724-1c10-4323-99f1-be0dda87c110"
      },
      "source": [
        "# Initialise a model\n",
        "model = LangyNet(hidden_layers=3, hidden_nodes=32)\n",
        "\n",
        "# Load state from file\n",
        "device = 'cpu'\n",
        "if torch.cuda.is_available():\n",
        "    device = 'cuda:0'\n",
        "model.load_state_dict(torch.load(\n",
        "    '/content/gdrive/MyDrive/Uni/Year 3/ECS635U Project/model_state_dict',\n",
        "    map_location=torch.device(device)))\n",
        "\n",
        "# Set model to evaluation mode\n",
        "model.eval()\n",
        "\n",
        "# Display model state (parameters i.e. weights and bias)\n",
        "# for param_tensor in model.state_dict():\n",
        "#     print(param_tensor, '\\n', model.state_dict()[param_tensor])"
      ],
      "execution_count": 31,
      "outputs": [
        {
          "output_type": "execute_result",
          "data": {
            "text/plain": [
              "LangyNet(\n",
              "  (langy_block_1): LangyBlock(\n",
              "    (hid1): Linear(in_features=10, out_features=32, bias=True)\n",
              "    (act1): ReLU()\n",
              "    (drop1): Dropout(p=0, inplace=False)\n",
              "  )\n",
              "  (langy_block_2): LangyBlock(\n",
              "    (hid2): Linear(in_features=32, out_features=32, bias=True)\n",
              "    (act2): ReLU()\n",
              "    (drop2): Dropout(p=0, inplace=False)\n",
              "  )\n",
              "  (langy_block_3): LangyBlock(\n",
              "    (hid3): Linear(in_features=32, out_features=32, bias=True)\n",
              "    (act3): ReLU()\n",
              "    (drop3): Dropout(p=0, inplace=False)\n",
              "  )\n",
              "  (output): Linear(in_features=32, out_features=1, bias=True)\n",
              ")"
            ]
          },
          "metadata": {
            "tags": []
          },
          "execution_count": 31
        },
        {
          "output_type": "stream",
          "text": [
            "time: 17.3 ms (started: 2021-04-20 21:44:12 +00:00)\n"
          ],
          "name": "stdout"
        }
      ]
    },
    {
      "cell_type": "markdown",
      "metadata": {
        "id": "e-8Bi4I6zwqP"
      },
      "source": [
        "## Perform Testing"
      ]
    },
    {
      "cell_type": "code",
      "metadata": {
        "id": "CmEJQTcMl0p9",
        "colab": {
          "base_uri": "https://localhost:8080/"
        },
        "outputId": "01a07f24-c9a7-4d10-fc17-ebbf4fd21ea4"
      },
      "source": [
        "test_loss, min, max, avg = test(model)"
      ],
      "execution_count": 32,
      "outputs": [
        {
          "output_type": "stream",
          "text": [
            "Testing dataset contains 146763 examples.\n",
            "Batch size set to 128.\n",
            "\n",
            "batch 1     test_loss=0.00000000201\n",
            "batch 100   test_loss=0.00000000150\n",
            "batch 200   test_loss=0.00000000117\n",
            "batch 300   test_loss=0.00000000339\n",
            "batch 400   test_loss=0.00000000145\n",
            "batch 500   test_loss=0.00000000132\n",
            "batch 600   test_loss=0.00000000131\n",
            "batch 700   test_loss=0.00000000146\n",
            "batch 800   test_loss=0.00000000200\n",
            "batch 900   test_loss=0.00000000186\n",
            "batch 1000  test_loss=0.00000000178\n",
            "batch 1100  test_loss=0.00000000166\n",
            "\n",
            "\n",
            " min=0.00000000070 (6.993137180444364e-10)\n",
            " max=0.00000000866 (8.660061112664152e-09)\n",
            " avg=0.00000000160 (1.6026830085248343e-09)\n",
            "\n",
            "time: 3.11 s (started: 2021-04-20 21:44:16 +00:00)\n"
          ],
          "name": "stdout"
        }
      ]
    },
    {
      "cell_type": "markdown",
      "metadata": {
        "id": "BeLDhVqW0BaC"
      },
      "source": [
        "## Plot of Loss"
      ]
    },
    {
      "cell_type": "code",
      "metadata": {
        "colab": {
          "base_uri": "https://localhost:8080/",
          "height": 426
        },
        "id": "JBcgvncEzWj7",
        "outputId": "f047d20c-5796-4660-cc9f-9ff5b582b6bf"
      },
      "source": [
        "plt.figure(figsize=(8, 6))\n",
        "plt.title('Optimal Model: Testing Loss over Batches', fontsize=18)\n",
        "plt.plot(test_loss)\n",
        "plt.xlabel('batch', fontsize=16)\n",
        "plt.ylabel('loss', fontsize=16)\n",
        "plt.show()"
      ],
      "execution_count": 33,
      "outputs": [
        {
          "output_type": "display_data",
          "data": {
            "image/png": "[encoded data removed]",
            "text/plain": [
              "<Figure size 576x432 with 1 Axes>"
            ]
          },
          "metadata": {
            "tags": []
          }
        },
        {
          "output_type": "stream",
          "text": [
            "time: 182 ms (started: 2021-04-20 21:44:23 +00:00)\n"
          ],
          "name": "stdout"
        }
      ]
    }
  ]
}